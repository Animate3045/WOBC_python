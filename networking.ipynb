{
 "cells": [
  {
   "cell_type": "markdown",
   "metadata": {},
   "source": [
    "TCP/IP - connection based\n",
    "UDP - connectionless \n",
    "\n",
    "Client and server cannot run off the same session"
   ]
  },
  {
   "cell_type": "code",
   "execution_count": 2,
   "metadata": {},
   "outputs": [
    {
     "data": {
      "text/plain": [
       "bytes"
      ]
     },
     "execution_count": 2,
     "metadata": {},
     "output_type": "execute_result"
    }
   ],
   "source": [
    "strng = \"hello\"\n",
    "bstring = b'hello' \n",
    "type(bstring)\n",
    "\n",
    "for b in bstring:\n",
    "    print(b) #sequentially prints the ASCII values of \"hello\""
   ]
  },
  {
   "cell_type": "code",
   "execution_count": 3,
   "metadata": {},
   "outputs": [
    {
     "name": "stdout",
     "output_type": "stream",
     "text": [
      "Our server is bound.\n",
      "Our server is listening\n"
     ]
    }
   ],
   "source": [
    "import socket\n",
    "# help(socket)\n",
    "def tcp_qotd_server():\n",
    "    s = socket.socket()\n",
    "    s.bind(('127.0.0.1', 12345))\n",
    "    print('Our server is bound.')\n",
    "    s.listen()\n",
    "    print('Our server is listening')\n",
    "    client_socket, address = s.accept()\n",
    "    quote = b'Hello and welcome to the server.' #creates a byte-like object\n",
    "    client_socket.send(quote)\n",
    "    client_socket.close()\n",
    "tcp_qotd_server()"
   ]
  }
 ],
 "metadata": {
  "kernelspec": {
   "display_name": "Python 3",
   "language": "python",
   "name": "python3"
  },
  "language_info": {
   "codemirror_mode": {
    "name": "ipython",
    "version": 3
   },
   "file_extension": ".py",
   "mimetype": "text/x-python",
   "name": "python",
   "nbconvert_exporter": "python",
   "pygments_lexer": "ipython3",
   "version": "3.8.10"
  }
 },
 "nbformat": 4,
 "nbformat_minor": 2
}
