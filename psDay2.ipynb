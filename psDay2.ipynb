{
 "cells": [
  {
   "cell_type": "code",
   "execution_count": null,
   "metadata": {
    "vscode": {
     "languageId": "powershell"
    }
   },
   "outputs": [],
   "source": [
    "get-command -verb format\n",
    "\n",
    "get-ChildItem | format-table name\n",
    "\n",
    "get-services format-table # won't work because it thinks format table is an attribute\n",
    "\n",
    "'192.168.1.1' -eq '192.168.1.1' # -eq = equal, -ne not eq, -lt less than\n",
    "\n",
    "'powershell' -like '*shell'\n",
    "'powershell' -like 'power?hell' # -notlike is also available\n",
    "\n",
    "$text1 = 'Serial numbe: M05364'\n",
    "$text2 = 'Serial number: M065'\n",
    "$pattern = 'M0(\\d{3})'\n",
    "\n",
    "$text1 -match $pattern\n",
    "\n",
    "function process {\n",
    "    get-process\n",
    "}"
   ]
  },
  {
   "cell_type": "code",
   "execution_count": null,
   "metadata": {
    "vscode": {
     "languageId": "powershell"
    }
   },
   "outputs": [],
   "source": [
    "function network{\n",
    "    get-NetTCPConnection | select-object localAddress, LocalPort, RemoteAddress, remotePort, State, OwningProcess | Where-Object -Property state -eq \"Listen\"\n",
    "}"
   ]
  },
  {
   "cell_type": "code",
   "execution_count": null,
   "metadata": {
    "vscode": {
     "languageId": "powershell"
    }
   },
   "outputs": [],
   "source": [
    "function PNN{\n",
    "    >>             Get-NetTCPConnection | ForEach-Object {#Same as a for-loop in python\n",
    "    >>                 $connection = $_\n",
    "    >>                 $processId = $connection.OwningProcess\n",
    "    >>                 $process = Get-Process -Id $processId -ErrorAction SilentlyContinue\n",
    "    >>                     if ($process) {\n",
    "    >>                         [PSCustomObject]@{\n",
    "    >>                             LocalAddress = $connection.LocalAddress\n",
    "    >>                             LocalPort = $connection.LocalPort\n",
    "    >>                             RemoteAddress = $connection.RemoteAddress\n",
    "    >>                             RemotePort = $connection.RemotePort\n",
    "    >>                             State = $connection.State\n",
    "    >>                             ProcessId = $processId\n",
    "    >>                             ProcessName = $process.ProcessName\n",
    "    >>                             ProcessPath = $process.Path\n",
    "    >>                     }\n",
    "    >>                 }\n",
    "    >>             } | Where-Object -Property State -eq \"Listen\" | select -last 5 | Format-Table -AutoSize\n",
    "    >>         }"
   ]
  },
  {
   "cell_type": "code",
   "execution_count": null,
   "metadata": {
    "vscode": {
     "languageId": "powershell"
    }
   },
   "outputs": [],
   "source": [
    "PS C:\\> function UserInfo {\n",
    "    param (\n",
    "        [string]$Username,\n",
    "        [switch]$IncludeDetails\n",
    "    )\n",
    "\n",
    "    if ($IncludeDetails) {\n",
    "        Write-Host \"Getting detailed information for user $Username\"\n",
    "        Get-LocalUser | Where-Object {$_.Name -eq $Username} | Select-Object -Property Name, Enabled, PasswordRequired, SID\n",
    "\n",
    "    } else {\n",
    "        Write-Host \"Getting basic information for user $Username\"\n",
    "        Get-LocalUser | Where-object {$_.Name -eq $Username} | Select-Object -Property Name, Enabled\n",
    "    }\n",
    "}$events = get-WinEvent -LogName Security -MaxEvents 10\n",
    "\n",
    "## Even though it was created with parameters, it'll run without params"
   ]
  },
  {
   "cell_type": "code",
   "execution_count": null,
   "metadata": {
    "vscode": {
     "languageId": "powershell"
    }
   },
   "outputs": [],
   "source": [
    "PS C:\\Users\\student> $user = (get-localuser).name\n",
    "PS C:\\Users\\student> add-content -path .\\testfile.txt -value $user\n",
    "PS C:\\Users\\student> get-content .\\testfile.txt\n",
    "Admin\n",
    "Administrator$events = get-WinEvent -LogName Security -MaxEvents 10\n",
    "cloudbase-init\n",
    "DefaultAccount\n",
    "Guest\n",
    "sshd\n",
    "student\n",
    "WDAGUtilityAccount\n",
    "PS C:\\Users\\student>"
   ]
  },
  {
   "cell_type": "code",
   "execution_count": null,
   "metadata": {
    "vscode": {
     "languageId": "powershell"
    }
   },
   "outputs": [],
   "source": [
    "get-LocalUser | out-file -filepath .\\user.txt\n",
    "get-content -path .\\user.txt\n",
    "$events = get-WinEvent -LogName Security -MaxEvents 10\n",
    "'''Name               Enabled Description\n",
    "----               ------- -----------\n",
    "Admin              False   Admin user\n",
    "Administrator      False   Built-in account for administering the computer/domain\n",
    "cloudbase-init     True\n",
    "DefaultAccount     False   A user account managed by the system.\n",
    "Guest              False   Built-in account for guest access to the computer/domain\n",
    "sshd               True\n",
    "student            True\n",
    "WDAGUtilityAccount False   A user account managed and used by the system for Windows Defender Application G…'''\n"
   ]
  },
  {
   "cell_type": "code",
   "execution_count": null,
   "metadata": {
    "vscode": {
     "languageId": "powershell"
    }
   },
   "outputs": [],
   "source": [
    "### this only works in powershell 7, will error out in powershell 5\n",
    "get-content .\\testfile.txt | add-content -path .\\testfile.txt\n",
    "### add to the file you are pulling from"
   ]
  },
  {
   "cell_type": "code",
   "execution_count": null,
   "metadata": {
    "vscode": {
     "languageId": "powershell"
    }
   },
   "outputs": [],
   "source": [
    "$events = get-WinEvent -LogName Security -MaxEvents 10\n",
    "$eventsJSON = $events | ConvertTo-JSON -Depth 5\n",
    "$eventsJSON | Out-File -FilePath events.json\n",
    "get-content .\\events.json"
   ]
  },
  {
   "cell_type": "code",
   "execution_count": null,
   "metadata": {
    "vscode": {
     "languageId": "powershell"
    }
   },
   "outputs": [],
   "source": [
    "#Question6 Functions1\n",
    "function process {get-Process}; process"
   ]
  },
  {
   "cell_type": "code",
   "execution_count": null,
   "metadata": {
    "vscode": {
     "languageId": "powershell"
    }
   },
   "outputs": [],
   "source": [
    "#Question 7 Functions2\n",
    "function processes{get-process | select-object name,processID, Path | format-table}"
   ]
  },
  {
   "cell_type": "code",
   "execution_count": null,
   "metadata": {
    "vscode": {
     "languageId": "powershell"
    }
   },
   "outputs": [],
   "source": [
    "#Question 8 Functions3\n",
    "function network{get-NetTCPConnection};network"
   ]
  },
  {
   "cell_type": "code",
   "execution_count": null,
   "metadata": {
    "vscode": {
     "languageId": "powershell"
    }
   },
   "outputs": [],
   "source": [
    "#Question 9 Functions4\n",
    "function networking{get-NetTCPConnection | select-object localaddress, localport,remoteaddress, remoteport | format-list};networking"
   ]
  },
  {
   "cell_type": "code",
   "execution_count": null,
   "metadata": {
    "vscode": {
     "languageId": "powershell"
    }
   },
   "outputs": [],
   "source": [
    "#Question 10 Functions5\n",
    "function established{get-NetTCPConnection | Where-object -property state -eq 'established' | select-object localaddress, localport, remoteaddress, remoteport, state | format-list};established"
   ]
  }
 ],
 "metadata": {
  "language_info": {
   "name": "python"
  }
 },
 "nbformat": 4,
 "nbformat_minor": 2
}
