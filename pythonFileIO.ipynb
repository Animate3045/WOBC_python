{
 "cells": [
  {
   "cell_type": "markdown",
   "metadata": {},
   "source": [
    "### Python File I/O\n",
    "    How to open files for I/O operations\n",
    "    How to close files automatically (the with statement)\n",
    "    How to read text from a file\n",
    "    How to write text to a file\n",
    "    How to use the seek() and tell() file methods\n",
    "    How to read and write raw (binary) data to a file\n"
   ]
  },
  {
   "cell_type": "markdown",
   "metadata": {},
   "source": [
    "#### There are 4 key commands for files\n",
    "\n",
    "Opening a file in write mode, storing the file in a variable\n",
    "open() | file_obj = open(\"info.txt\", 'w')\n",
    "\n",
    "Read data out of a file\n",
    "read() \n",
    "\n",
    "Writing to a file\n",
    "write() | file_obj.write(\"Hello World\")\n",
    "\n",
    "Close the file\n",
    "close() | file_obj.close()"
   ]
  },
  {
   "cell_type": "code",
   "execution_count": 5,
   "metadata": {},
   "outputs": [
    {
     "name": "stdout",
     "output_type": "stream",
     "text": [
      "False\n",
      "['\\n', 'I would like to be able to see this while I make configuration changes and whatnot.\\n', 'But with all of this shit, it would be much easier to follow the lesson content.\\n']\n"
     ]
    }
   ],
   "source": [
    "read_large = open(\"large.txt\" , \"r\")\n",
    "dir(read_large)\n",
    "print(read_large.writable())with open(\"info.txt\", \"w\") as data_obj:\n",
    "       for state, population, capital in data:\n",
    "           data_obj.write(f'{state}, {population}, {capital}\\n')\n",
    "read_large.readline()\n",
    "text = read_large.readlines()\n",
    "type(text)\n",
    "print(text)\n",
    "\n",
    "#Need to close the file when you're done interacting with it\n",
    "read_large.close()\n"
   ]
  },
  {
   "cell_type": "code",
   "execution_count": 7,
   "metadata": {},
   "outputs": [
    {
     "data": {
      "text/plain": [
       "11"
      ]
     },
     "execution_count": 7,
     "metadata": {},
     "output_type": "execute_result"
    }
   ],
   "source": [
    "### write mode will erase and replace, not append\n",
    "newFile = open(\"new_stuff.txt\", 'w')\n",
    "newFile.write(\"Hello World\")\n"
   ]
  },
  {
   "cell_type": "code",
   "execution_count": null,
   "metadata": {},
   "outputs": [],
   "source": [
    "# when you use the 'with' syntax, it opens the file for operations. The file will be closed when you exit the code block\n",
    "with open(\"large.txt\") as large_default:\n",
    "    large_default.readline() # read the first line\n",
    "    large_default.readline() # read the next line\n",
    "    print(large_default.tell()) # what character position is our pointer currently at\n",
    "    large_default.seek(4,0) # move the pointer to the specified location in the file ([where to go], [from where])\n",
    "    print(large_default.tell()) # confirm pointer position\n",
    "    print(large_default.readline()) # "
   ]
  },
  {
   "cell_type": "markdown",
   "metadata": {},
   "source": [
    "r \treads from file, this is used by default\n",
    "\n",
    "w \twrites to a file, will overwrite if file exists\n",
    "\n",
    "a \tappends to a file, will not overwrite\n",
    "\n",
    "x \tcreates a file if it does not exist\n",
    "\n",
    "b \tallows for reading or writing to binary\n",
    "\n",
    "t \ttext mde, can read or write\n",
    "\n",
    "w+ or r+ \tfile must eist, can read and write\n",
    "\n",
    "https://pages.github.com/?(null)\n",
    "Create a file object and open file in read mode\n",
    "    file_obj = open(\"info.txt\", \"r\")\n",
    "\n",
    "Create a file object and opens file in write mode\n",
    "    file_obj = open(\"info.txt\", \"w\")\n",
    "\n",
    "Create a file object and opens file in append mode\n",
    "    file_obj = open(\"info.txt\", \"a\")\n",
    "\n",
    "Create a file object and opens file in read binary mode\n",
    "    file_obj = open(\"info.dat\", \"rb\")\n",
    "\n",
    "Create a file object and opens file in write binary mode\n",
    "    file_obj = open(\"info.dat\", \"wb\")\n",
    "\n",
    "Create a file object and opens file in append binary mode\n",
    "    file_obj = open(\"info.dat\", \"ab\")"
   ]
  },
  {
   "cell_type": "code",
   "execution_count": 9,
   "metadata": {},
   "outputs": [
    {
     "data": {
      "text/plain": [
       "tuple"
      ]
     },
     "execution_count": 9,
     "metadata": {},
     "output_type": "execute_result"
    }
   ],
   "source": [
    "data = [(\"California\", 39937489, \"Sacramento\"),\n",
    "       (\"Texas\", 29472295, \"Austin\"),\n",
    "       (\"Florida\", 21992985, \"Tallahassee\")]\n",
    "type(data)\n",
    "type(data[0])"
   ]
  },
  {
   "cell_type": "code",
   "execution_count": null,
   "metadata": {},
   "outputs": [],
   "source": [
    "with open(\"info.txt\", \"w\") as data_obj:\n",
    "       for state, population, capital in data:\n",
    "           data_obj.write(f'{state}, {population}, {capital}\\n')"
   ]
  },
  {
   "cell_type": "code",
   "execution_count": null,
   "metadata": {},
   "outputs": [],
   "source": [
    "#Question 6\n",
    "with open(\"users.txt\") as contents:\n",
    "    print(contents.read())"
   ]
  },
  {
   "cell_type": "code",
   "execution_count": null,
   "metadata": {},
   "outputs": [],
   "source": [
    "#Question 7\n",
    "with open(\"users.txt\") as content:\n",
    "    li = content.readlines()\n",
    "    print(li)"
   ]
  },
  {
   "cell_type": "code",
   "execution_count": null,
   "metadata": {},
   "outputs": [],
   "source": [
    "#Question 8\n",
    "def file_read(infile):\n",
    "    with open(infile, 'r') as reading:\n",
    "        li = reading.readlines()\n",
    "        counter = 0\n",
    "        for i in li:\n",
    "            print(li[counter])\n",
    "            counter += 1"
   ]
  },
  {
   "cell_type": "code",
   "execution_count": null,
   "metadata": {},
   "outputs": [],
   "source": [
    "#Question 9\n",
    "'''Using the function provided accomplish the following task: \n",
    "\n",
    "Read the contents of the file path stored in infile and write the contents to the file path stored in outfile.\n",
    "\n",
    "NOTE: The challenge will use file.txt to test your code, however, you can create your own files to accomplish this if you wish.'''\n",
    "\n",
    "def copy_paste(infile, outfile):\n",
    "    with open(infile) as copy:\n",
    "        paste = copy.read()\n",
    "        newFile = open(outfile, 'w')\n",
    "        newFile.write(paste)\n",
    "        newFile.close()\n",
    "    pass"
   ]
  },
  {
   "cell_type": "code",
   "execution_count": null,
   "metadata": {},
   "outputs": [],
   "source": [
    "#Question 10\n",
    "'''\n",
    "    Read file specified by the path stored in the inpath parameter and write all lines to the file specified by the outpath parameter.\n",
    "    Before writing out each line, add the line number starting with 1 follow by colon and space\n",
    "'''\n",
    "def linenums(inpath, outpath):\n",
    "    with open(inpath, 'r') as in_file, open(outpath, 'w') as out_file:\n",
    "        line_number = 1 #starting point\n",
    "        contentList = in_file.readlines()\n",
    "        counter = 0\n",
    "        for i in contentList:\n",
    "            newLine = (f'{line_number}: {contentList[counter]}')\n",
    "            out_file.write(newLine)\n",
    "            line_number +=1\n",
    "            counter += 1\n"
   ]
  }
 ],
 "metadata": {
  "kernelspec": {
   "display_name": "Python 3",
   "language": "python",
   "name": "python3"
  },
  "language_info": {
   "codemirror_mode": {
    "name": "ipython",
    "version": 3
   },
   "file_extension": ".py",
   "mimetype": "text/x-python",
   "name": "python",
   "nbconvert_exporter": "python",
   "pygments_lexer": "ipython3",
   "version": "3.8.10"
  }
 },
 "nbformat": 4,
 "nbformat_minor": 2
}
