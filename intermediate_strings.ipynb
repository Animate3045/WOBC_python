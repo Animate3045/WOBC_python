{
 "cells": [
  {
   "cell_type": "code",
   "execution_count": 30,
   "metadata": {},
   "outputs": [
    {
     "name": "stdout",
     "output_type": "stream",
     "text": [
      "hello world\n"
     ]
    }
   ],
   "source": [
    "print('hello world')"
   ]
  },
  {
   "cell_type": "markdown",
   "metadata": {},
   "source": [
    "### Using builtin functions (methods) on strings\n",
    "- When you add a period, VSCode will provide a list of available functions to manipluate the data stored in a variable\n",
    "- You need to add the parentheses at the end to call the method"
   ]
  },
  {
   "cell_type": "code",
   "execution_count": 31,
   "metadata": {},
   "outputs": [],
   "source": [
    "string = \"wobc is cool\"\n",
    "string_upper = string.upper() # --> Will produce \"WOBC IS COOL\"\n",
    "string_upper.lower()\n",
    "string_title = string.title() # --> Will produce title case of your string\n"
   ]
  },
  {
   "cell_type": "markdown",
   "metadata": {},
   "source": [
    "### Finding Substrings\n",
    "- Pylance will run against a stored string variable\n",
    "- Can identify components of the data within the variable\n",
    "\n",
    "#### Special cases\n",
    "- for .index(\"x\") returns the index position of the first time that character is present, even if there are multiple\n",
    "-- .find(\"x\") won't break if the passed arg is not in the string - performs similarly to index otherwise"
   ]
  },
  {
   "cell_type": "code",
   "execution_count": 32,
   "metadata": {},
   "outputs": [
    {
     "data": {
      "text/plain": [
       "1"
      ]
     },
     "execution_count": 32,
     "metadata": {},
     "output_type": "execute_result"
    }
   ],
   "source": [
    "my_sentence = \"This is just my sentence.\"\n",
    "\n",
    "\"o\" in my_sentence # --> rehttps://cted.cybbh.io/tech-college/cbtc/python/03_Python_intermediate_strings/09_String_Formatting.htmlturns \"False\"\n",
    "\"is\" in my_sentence # --> returns \"True\" \n",
    "\"sents\" in my_sentence # --> returns \"False\" \n",
    "\" \" in my_sentence # --> returns True -- space counts as a character\n",
    "\n",
    "my_sentence.count(\"s\") # --> 4\n",
    "my_sentence.count(\" \") # --> 4\n",
    "my_sentence.count(\"k\") # --> 0 -- returns zero if not present, program still works\n",
    "\n",
    "my_sentence.index(\"s\") # --> first index of the character passed as an arg\n",
    "# my_sentence.index(\"k\") # --> ValueError because it's not present at all\n",
    "\n",
    "my_sentence.find(\"k\") # --> returns -1 because it's not in the string\n",
    "\n",
    "my_sentence.count(\"is\") # --> returns 2 -- from This and is\n",
    "my_sentence.count(\" is\") # --> returns 1 as it eliminates the 'is' in This"
   ]
  },
  {
   "cell_type": "markdown",
   "metadata": {},
   "source": [
    "### Methods to modify strings\n",
    "https://cted.cybbh.io/tech-college/cbtc/python/03_Python_intermediate_strings/04_Methods_to_Modify_Strings.html\n",
    "- the .strip() method will clear out all of the leading/trailing \\t (tab) and spaces\n",
    "- the .lstrip() removes space and tab on the left side of the string\n",
    "- similarly, .rstrip() does the same thing on the right side of the string\n",
    "- .replace() can swap out individual characters -- it will apply across the entire string stored in the variable"
   ]
  },
  {
   "cell_type": "code",
   "execution_count": 33,
   "metadata": {},
   "outputs": [
    {
     "name": "stdout",
     "output_type": "stream",
     "text": [
      "123-456-7890 123 456 7890\n"
     ]
    }
   ],
   "source": [
    "s = \"\\t 123-456-7890 \\t\"\n",
    "\n",
    "format = s.strip()\n",
    "format\n",
    "lformat = s.lstrip()\n",
    "lformat\n",
    "longway = s.lstrip().rstrip()\n",
    "final_form = format.replace(\"-\", \" \")\n",
    "print(format,final_form)"
   ]
  },
  {
   "cell_type": "markdown",
   "metadata": {},
   "source": [
    "### is Methods for Strings\n",
    "\n",
    "    Methods can be used to to validate if a string contains a certain set of characters\n",
    "    When the method validates, it will return either True or False\n",
    "\n",
    "The methods are:\n",
    "\n",
    "    isdigit(): will return True if all characters are digits\n",
    "    islower(): will return True if all characters are lowercase\n",
    "    isupper(): will return True if all characters are uppercase\n",
    "    isalnum(): will return True if all characters are alphanumeric\n"
   ]
  },
  {
   "cell_type": "code",
   "execution_count": 34,
   "metadata": {},
   "outputs": [
    {
     "data": {
      "text/plain": [
       "True"
      ]
     },
     "execution_count": 34,
     "metadata": {},
     "output_type": "execute_result"
    }
   ],
   "source": [
    "mixed_msg = \"My phone number is 867-5309\" \n",
    "\n",
    "mixed_msg.islower()\n",
    "upper = \"SPARTY\" \n",
    "lower = \"scum\" \n",
    "last_four = \"1234\"\n",
    "\n",
    "upper.isupper() # --> True\n",
    "lower.islower() # --> True\n",
    "\n",
    "upper.islower() # --> False\n",
    "lower.isupper() # --> False \n",
    "\n",
    "last_four.isalnum() # --> True\n",
    "last_four.isalpha() # --> False (numbers not letters) \n",
    "\n",
    "last_four.isdigit() # --> True"
   ]
  },
  {
   "cell_type": "markdown",
   "metadata": {},
   "source": [
    "### Escape characters\n",
    "https://cted.cybbh.io/tech-college/cbtc/python/03_Python_intermediate_strings/06_Escape_Characters.html\n",
    "\n",
    "    used to format the output text when printed\n",
    "    can use characters that are syntax relevant, like quotation marks, in the string without breaking the code\n",
    "\n"
   ]
  },
  {
   "cell_type": "code",
   "execution_count": 35,
   "metadata": {},
   "outputs": [
    {
     "name": "stdout",
     "output_type": "stream",
     "text": [
      "This is line one\n",
      "This will be on second\n"
     ]
    }
   ],
   "source": [
    "# single_quoted = 'This is a 'single quote' sentence.' # --> syntax error\n",
    "single_quoted = 'This is a \\'single quote\\' sentence.' # --> using the escape character allows it to save and store\n",
    "single_quoted\n",
    "double = \"This is 'double quoted' sentence\" \n",
    "sentence = \"This is line one\\nThis will be on second\" # --> new line || you have to print it to see it\n",
    "print(sentence)\n",
    "\n",
    "trips_left = \"\"\"this allows for multi\n",
    "                line comments, keeps tabbing and spacing\"\"\""
   ]
  },
  {
   "cell_type": "markdown",
   "metadata": {},
   "source": [
    "### String Indexing and Slicing\n",
    "https://cted.cybbh.io/tech-college/cbtc/python/03_Python_intermediate_strings/08_String_Indexing.html\n",
    "\n",
    "    the_string[index] will return the character at the index position passed as an argument\n",
    "    can use negative intergers to select characters at the end of the string\n",
    "    for slicing - pass 2x interger arguments in brackets -- the_string[start:stop]\n",
    "        the second index position passed is non-inclusive (won't be returned)\n",
    "        if you leave the second index argument blank, returns everything after first index argument\n",
    "        can also be used to remove characters from the end of the string\n",
    "    can also iterate through by a different interval than 1 by specifying after 2 colons the_string[start:stop:step]\n",
    "    "
   ]
  },
  {
   "cell_type": "code",
   "execution_count": 36,
   "metadata": {},
   "outputs": [
    {
     "data": {
      "text/plain": [
       "'.nrsas i'"
      ]
     },
     "execution_count": 36,
     "metadata": {},
     "output_type": "execute_result"
    }
   ],
   "source": [
    "my_strng = \"This is a string.\" \n",
    "my_strng[0]x.\n",
    "my_strng[-1]\n",
    "my_strng[0:5] \n",
    "my_strng[7:9] \n",
    "my_strng[2:]\n",
    "my_strng[:-1]\n",
    "my_strng[0:-1:2]\n",
    "my_strng[0:-1:3]\n",
    "my_strng[::-1] #backwards through string\n",
    "my_strng[::-1][0:-1:2]\n"
   ]
  },
  {
   "cell_type": "markdown",
   "metadata": {},
   "source": [
    "### String Formatting\n",
    "https://cted.cybbh.io/tech-college/cbtc/python/03_Python_intermediate_strings/09_String_Formatting.html\n",
    "\n",
    "    f ==> called an f-string, used to format outputs"
   ]
  },
  {
   "cell_type": "code",
   "execution_count": 37,
   "metadata": {},
   "outputs": [
    {
     "data": {
      "text/plain": [
       "'This is class WOBC 24-501. There are 25 students in the class.'"
      ]
     },
     "execution_count": 37,
     "metadata": {},
     "output_type": "execute_result"
    }
   ],
   "source": [
    "var = \"WOBC\" \n",
    "cls = \"24-501\" \n",
    "num = 25\n",
    "\n",
    "f\"This is class {var} {cls}. There are {num} students in the class.\" \n"
   ]
  },
  {
   "cell_type": "code",
   "execution_count": 39,
   "metadata": {},
   "outputs": [
    {
     "name": "stdout",
     "output_type": "stream",
     "text": [
      "A billi\n"
     ]
    }
   ],
   "source": [
    "text = \"A milli\" \n",
    "new = text.replace(\"m\",\"b\")\n",
    "print(new)\n"
   ]
  },
  {
   "cell_type": "code",
   "execution_count": 46,
   "metadata": {},
   "outputs": [
    {
     "name": "stdout",
     "output_type": "stream",
     "text": [
      "True True True\n",
      "False\n"
     ]
    },
    {
     "ename": "TypeError",
     "evalue": "can only concatenate str (not \"int\") to str",
     "output_type": "error",
     "traceback": [
      "\u001b[0;31m---------------------------------------------------------------------------\u001b[0m",
      "\u001b[0;31mTypeError\u001b[0m                                 Traceback (most recent call last)",
      "Cell \u001b[0;32mIn[46], line 16\u001b[0m\n\u001b[1;32m     14\u001b[0m \u001b[38;5;28;01melif\u001b[39;00m i\u001b[38;5;241m.\u001b[39misnumeric() \u001b[38;5;241m==\u001b[39m \u001b[38;5;241m0\u001b[39m:\n\u001b[1;32m     15\u001b[0m     \u001b[38;5;28mprint\u001b[39m(i\u001b[38;5;241m.\u001b[39misnumeric())\n\u001b[0;32m---> 16\u001b[0m \u001b[43mi\u001b[49m\u001b[38;5;241;43m+\u001b[39;49m\u001b[38;5;241;43m1\u001b[39;49m\n",
      "\u001b[0;31mTypeError\u001b[0m: can only concatenate str (not \"int\") to str"
     ]
    }
   ],
   "source": [
    "x = \"abc123\"\n",
    "y = \"abc\" \n",
    "z = \"123\" \n",
    "numbers = [5,4,2,1,3]\n",
    "x_test = x.isalnum()\n",
    "y_test = y.isalnum() \n",
    "z_test = z.isalnum()\n",
    "\n",
    "print(x_test, y_test, z_test) \n",
    "\n",
    "for i in x:\n",
    "    if i.isnumeric() == 1:\n",
    "        print(i.isnumeric())\n",
    "    elif i.isnumeric() == 0:\n",
    "        print(i.isnumeric())\n",
    "    i+1"
   ]
  },
  {
   "cell_type": "code",
   "execution_count": 47,
   "metadata": {},
   "outputs": [
    {
     "name": "stdout",
     "output_type": "stream",
     "text": [
      "['Turn', 'this', 'into', 'a', 'list.']\n"
     ]
    }
   ],
   "source": [
    "string = \"Turn this into a list.\"\n",
    "split = string.split(\" \")\n",
    "print(split)"
   ]
  },
  {
   "cell_type": "code",
   "execution_count": 48,
   "metadata": {},
   "outputs": [
    {
     "name": "stdout",
     "output_type": "stream",
     "text": [
      "The hexidecimal of 5 is 0x5\n"
     ]
    }
   ],
   "source": [
    "var = 5\n",
    "hex = hex(var)\n",
    "print(f\"The hexidecimal of {var} is {hex}\")"
   ]
  },
  {
   "cell_type": "code",
   "execution_count": 59,
   "metadata": {},
   "outputs": [
    {
     "name": "stdout",
     "output_type": "stream",
     "text": [
      "Feet\n"
     ]
    }
   ],
   "source": [
    "x = [\"F\",\"e\",\"e\",\"d\"]\n",
    "x[3] = \"t\" \n",
    "string = \"\"\n",
    "for i in x:\n",
    "    string += i\n",
    "    \n",
    "print(string)\n"
   ]
  },
  {
   "cell_type": "code",
   "execution_count": 60,
   "metadata": {},
   "outputs": [
    {
     "name": "stdout",
     "output_type": "stream",
     "text": [
      "10.237\n"
     ]
    }
   ],
   "source": [
    "x = 10.23654785\n",
    "print(x.__round__(3))"
   ]
  },
  {
   "cell_type": "code",
   "execution_count": 63,
   "metadata": {},
   "outputs": [
    {
     "name": "stdout",
     "output_type": "stream",
     "text": [
      " 10.237\n"
     ]
    }
   ],
   "source": [
    "x = 10.23654785\n",
    "print(f\"{x: .3f}\")"
   ]
  }
 ],
 "metadata": {
  "kernelspec": {
   "display_name": "Python 3",
   "language": "python",
   "name": "python3"
  },
  "language_info": {
   "codemirror_mode": {
    "name": "ipython",
    "version": 3
   },
   "file_extension": ".py",
   "mimetype": "text/x-python",
   "name": "python",
   "nbconvert_exporter": "python",
   "pygments_lexer": "ipython3",
   "version": "3.8.10"
  }
 },
 "nbformat": 4,
 "nbformat_minor": 2
}
