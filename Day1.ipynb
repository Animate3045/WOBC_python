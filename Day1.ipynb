{
 "cells": [
  {
   "cell_type": "markdown",
   "metadata": {},
   "source": [
    "- powershell works on a verb-noun syntax\n",
    "- get-command lists out all available commands for the powershell session (not really useful)\n",
    "- powershell is case-insensitive\n",
    "- powershell is singular\n",
    "    get-process vs get-processes\n",
    "can run external commands in powershell, like command prompt executables\n",
    "- parameters can go in any order in the script\n",
    "\n",
    "get-alias -definition get-childitem # remember this one\n",
    "\n",
    "everyhting you do in powershell is stored in memory for that specific session (variables, alias, etc) - it gets closed out when you leave powershell\n",
    "\n",
    "You can set up a profile to retain settings/variables/etc\n",
    "\n",
    "get-process | select name, id\n",
    "get-process | get-member -membertype properties\n",
    "https://cted.cybbh.io/tech-college/pns/public/pns/latest/guides/Day_1_WOBC_Student_Guide.html"
   ]
  },
  {
   "cell_type": "code",
   "execution_count": null,
   "metadata": {
    "vscode": {
     "languageId": "powershell"
    }
   },
   "outputs": [],
   "source": [
    "get-command -verb get\n",
    "get-command -verb\n",
    "\n",
    "#Full length powershell command\n",
    "Get-WinEvent -Logname 'Windows Powershell' -computerName 192.168.0.101 -creds $creds\n",
    "\n",
    "PS C:\\Users\\student> $Transcript = \"C:\\Users\\Student\\Desktop\\transcript.log\"\n",
    "PS C:\\Users\\student> Start-Transcript -path $transcript -IncludeInvocation -append\n"
   ]
  }
 ],
 "metadata": {
  "language_info": {
   "name": "python"
  }
 },
 "nbformat": 4,
 "nbformat_minor": 2
}
