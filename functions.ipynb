{
 "cells": [
  {
   "cell_type": "markdown",
   "metadata": {},
   "source": [
    "### Objectives\n",
    "    How to define a function\n",
    "    What the term 'Name scope' means\n",
    "    How to call functions\n",
    "    How to code functions that return values\n",
    "    What parameter and argument types can bes used with Python functions\n",
    "    How to pass a varying number of positional parameters\n",
    "    How to pass a varying number of keyword parameters\n",
    "    How to use several parameter types in one function\n",
    "    What a lambda function is and how to code them"
   ]
  },
  {
   "cell_type": "code",
   "execution_count": 1,
   "metadata": {},
   "outputs": [
    {
     "name": "stdout",
     "output_type": "stream",
     "text": [
      "Good morning, Class\n"
     ]
    }
   ],
   "source": [
    "#Defining a function\n",
    "#keyword = def\n",
    "def goodmorning():\n",
    "    print('Good morning, Class')\n",
    "goodmorning()"
   ]
  },
  {
   "cell_type": "code",
   "execution_count": 3,
   "metadata": {},
   "outputs": [
    {
     "name": "stdout",
     "output_type": "stream",
     "text": [
      "You Suck\n"
     ]
    }
   ],
   "source": [
    "#Defining functions with parameters (arguments)\n",
    "#When defining the function, the variables are called parameters\n",
    "def function_name(para1, para2):\n",
    "    print(para1, para2)\n",
    "\n",
    "#When you call the function, the terms you pass into the parameters are called arguments\n",
    "function_name(\"You\", \"Suck\")"
   ]
  },
  {
   "cell_type": "code",
   "execution_count": null,
   "metadata": {},
   "outputs": [],
   "source": [
    "def func1(num):\n",
    "    return num # retrun: passes data on to the rest of the program, will break you out of a function\n",
    "func1([1,2,3]) # --> we only see the list come back out in jupyter. Return doesn't print to the terminal"
   ]
  },
  {
   "cell_type": "code",
   "execution_count": 6,
   "metadata": {},
   "outputs": [
    {
     "name": "stdout",
     "output_type": "stream",
     "text": [
      "1 2\n",
      "3 4\n"
     ]
    }
   ],
   "source": [
    "#assigning arguments in the function is called default arguments\n",
    "def func2(num1 = 3, num2 = 4):\n",
    "    print(num1, num2)\n",
    "func2(1,2) # overwrites num1 and num2\n",
    "func2(3) # only overwrites num1; func2(,3) doesn't work"
   ]
  },
  {
   "cell_type": "code",
   "execution_count": null,
   "metadata": {},
   "outputs": [],
   "source": [
    "# *args or *arbitraryArgs or *arbitrary_args --> unpacks whatever is passed by the function call\n",
    "def func3(*args)"
   ]
  },
  {
   "cell_type": "code",
   "execution_count": 7,
   "metadata": {},
   "outputs": [
    {
     "name": "stdout",
     "output_type": "stream",
     "text": [
      "The len of args:  3\n",
      "arguments:  {'arg1': 'string', 'arg2': [1, 2, 3], 'arg3': (1, 2, 3)}\n"
     ]
    }
   ],
   "source": [
    "# **kwargs = keyword argments --> must have a variable assigned to dict with k/v pair\n",
    "def func4(**kwargs):\n",
    "    print(\"The len of args: \", len(kwargs))\n",
    "    print(\"arguments: \", kwargs)\n",
    "func4(arg1 = \"string\", arg2 = [1,2,3], arg3 = (1,2,3))"
   ]
  },
  {
   "cell_type": "code",
   "execution_count": null,
   "metadata": {},
   "outputs": [],
   "source": [
    "#if you create a variable within a a function, it is only locally definied within that function\n",
    "def func5():\n",
    "    withinFunction = 'this is totally defined'\n",
    "    print(withinFunction)\n",
    "func5()\n",
    "print(withinFunction)"
   ]
  },
  {
   "cell_type": "code",
   "execution_count": null,
   "metadata": {},
   "outputs": [],
   "source": [
    "global_var = 'I am a global variable'\n",
    "def func6():\n",
    "    global_var = \"New global\"\n",
    "    print(global_var)\n",
    "def func7():\n",
    "    print(global_var)\n",
    "func6()\n",
    "func7()\n"
   ]
  },
  {
   "cell_type": "code",
   "execution_count": 5,
   "metadata": {},
   "outputs": [
    {
     "name": "stdout",
     "output_type": "stream",
     "text": [
      "[('Zane', 'Blain', 'SSG'), ('James', 'Smith', 'CW2'), ('Aaron', 'White', 'MAJ')]\n"
     ]
    }
   ],
   "source": [
    "#Lambdas --> not required for the course, but can be useful\n",
    "#reduces typing, don't need to create new function for short/simple calcs\n",
    "\n",
    "#creating a simple incrementing function\n",
    "increment = lambda x: x+1\n",
    "\n",
    "#using lambda to sort a list\n",
    "names = [('James','Smith','CW2'), ('Zane','Blain','SSG'), ('Aaron','White','MAJ')]\n",
    "sortedList = sorted(names, key = lambda x: x[1])\n",
    "print(sortedList)"
   ]
  }
 ],
 "metadata": {
  "kernelspec": {
   "display_name": "Python 3",
   "language": "python",
   "name": "python3"
  },
  "language_info": {
   "codemirror_mode": {
    "name": "ipython",
    "version": 3
   },
   "file_extension": ".py",
   "mimetype": "text/x-python",
   "name": "python",
   "nbconvert_exporter": "python",
   "pygments_lexer": "ipython3",
   "version": "3.8.10"
  }
 },
 "nbformat": 4,
 "nbformat_minor": 2
}
