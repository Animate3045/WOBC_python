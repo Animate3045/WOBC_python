{
 "cells": [
  {
   "cell_type": "code",
   "execution_count": null,
   "metadata": {
    "vscode": {
     "languageId": "powershell"
    }
   },
   "outputs": [],
   "source": [
    "Get-ExecutionPolicy;\n",
    "Get-ExecutionPolicy -List;\n",
    "#Set-ExecutionPolicy AllSigned/RemoteSigned/Restricted/Unrestricted/Bypass\n",
    "\n",
    "# AllSigned will require that all scripts run on the host be signed by a trusted publisher.  The script will simply not run in PowerShell 7. We get an error when trying to run a script\n",
    "# previously created on the host if using PowerShell 5.\n",
    "\n",
    "# RemoteSigned will allow scripts with trusted digital signatures from the internet and any scripts written on the local host to run. RemoteSigned is the default setting on Windows Servers.\n",
    "# After downloading a script from the internet, attempting to run it with the execution policy RemoteSigned enabled will result in a prompt asking if you trust the script and want to run it.\n",
    "\n",
    "# Restricted will prevent any scripts from running on the host. In PowerShell 7, the script will not run. In PowerShell 5, the script will not run, and we will see an error.\n",
    "\n",
    "# Unrestricted will allow all scripts to run and will prompt the user if the script originated outside the local internet zone. This is the default setting and cannot be changed on\n",
    "# non-Windows devices running PowerShell.\n",
    "# The results are the same between PowerShell 5 and 7\n",
    "\n",
    "# Bypass will allow all scripts to run and will not warn the user if the script is potentially malicious, use with caution."
   ]
  },
  {
   "cell_type": "code",
   "execution_count": null,
   "metadata": {
    "vscode": {
     "languageId": "powershell"
    }
   },
   "outputs": [],
   "source": [
    "# Spelling and formatting errors can be common in larger script blocks, since Get-Process is specified as Get-Processes, the first Catch will fire when the code is executed\n",
    "Try {\n",
    "    Get-Processes\n",
    "}\n",
    "Catch [System.Management.Automation.CommandNotFoundException] {\n",
    "    Write-Host \"CATCH 1: The command is not found!\" -ForegroundColor Red\n",
    "}\n",
    "Catch {\n",
    "    Write-Host \"CATCH 2: This is a catch all by default\" -ForegroundColor Yellow\n",
    "}\n",
    "Finally {\n",
    "    Write-Host \"FINALLY: Runs no matter what...\" -ForegroundColor Yellow\n",
    "}"
   ]
  },
  {
   "cell_type": "code",
   "execution_count": null,
   "metadata": {
    "vscode": {
     "languageId": "powershell"
    }
   },
   "outputs": [],
   "source": [
    "# If we want to see the output without the error, we can use -ErrorAction SilentlyContinue\n",
    "Try {\n",
    "    $BiosName = (Get-CimInstance Win32_BIOS -ComputerName localhost,PRODUCE_ERROR -ErrorAction SilentlyContinue).Name\n",
    "    Write-Host $BiosName -ForegroundColor Green\n",
    " }\n",
    " Catch [System.Management.Automation.CommandNotFoundException] {\n",
    "     Write-Host \"CATCH 1: The command is not found!\" -ForegroundColor Red\n",
    " }\n",
    " Catch {\n",
    "     Write-Host \"CATCH 2: This is a catch all by default\" -ForegroundColor Yellow\n",
    " }\n",
    " Finally {\n",
    "     Write-Host \"FINALLY: Runs no matter what...\" -ForegroundColor Yellow\n",
    " }"
   ]
  },
  {
   "cell_type": "code",
   "execution_count": null,
   "metadata": {
    "vscode": {
     "languageId": "powershell"
    }
   },
   "outputs": [],
   "source": [
    "'''Trap Statements\n",
    "\n",
    "    Trap Statement\n",
    "\n",
    "        The Trap statement can also be used to handle terminating errors in scripts\n",
    "\n",
    "        The Trap keyword specifies statements to run when a terminating error occurs\n",
    "\n",
    "        Trap statements handle the terminating errors and allow execution to continue\n",
    "\n",
    "'''\n",
    "# Once again Get-Process is misspelled as Get-Processes and will cause an error at execution, the Trap Statement will trap the error and allow the remaining code to run successfully\n",
    "\n",
    "Function Trap-Test {\n",
    "    Trap [System.Management.Automation.CommandNotFoundException] {\n",
    "        Write-Host \"TRAP ERROR: The command is not found, check your spelling!\" -ForegroundColor Red\n",
    "    }\n",
    "    Trap {\n",
    "        Write-Host \"TRAP ERROR: This is a catch all by default\" -ForegroundColor Yellow\n",
    "    }\n",
    "    Get-Processes\n",
    "    $BiosName = (Get-CimInstance Win32_BIOS -ComputerName localhost).Name\n",
    "    Write-Host $BiosName -ForegroundColor Green\n",
    "    }\n",
    "    \n"
   ]
  },
  {
   "cell_type": "code",
   "execution_count": null,
   "metadata": {
    "vscode": {
     "languageId": "powershell"
    }
   },
   "outputs": [],
   "source": [
    "'''Error Reporting\n",
    "\n",
    "    Another part of error handling in PowerShell is error reporting.\n",
    "\n",
    "        Errors that occur during a PowerShell session are stored in the $Error and $LastExitCode variables and can be queried at any time to determine the cause of the errors.\n",
    "\n",
    "        Particularly useful when running large scripts that may generate several errors that you do not get the chance to read as they scroll by in the window.\n",
    "\n",
    "        Additionally, stores errors even if your ErrorAction preference is SilentlyContinue which we will discuss in the next section.\n",
    "\n",
    "'''\n",
    "# Using the $Error variable, we can see the error we just caused\n",
    "$Error | Select-Object -First 1;\n",
    "\n",
    "# Using the $LastExitCode variable. This will cause cmd.exe to open and if it is closed normally, it will return an exit code of 0. If any other number is returned, something failed.\n",
    "$process = Start-Process -FilePath \"C:\\Windows\\System32\\cmd.exe\" -PassThru\n",
    "    $process.WaitForExit()\n",
    "\n",
    "    $exitCode = $process.ExitCode\n",
    "\n",
    "    Write-Host \"Exit Code: $exitCode\"\n",
    "\n",
    "    if ($exitCode -eq 0) {\n",
    "        Write-Host \"Command executed successfully.\"\n",
    "    } else {\n",
    "        Write-Host \"Error: Something went wrong with the process.\"\n",
    "    }\n",
    "\n",
    "'''\n",
    "\n",
    "    Different ErrorActionPreference options and their functions\n",
    "\n",
    "        Break - Enter the debugger when an error occurs or when an exception is raised.\n",
    "\n",
    "        Continue: (Default) Displays the error message and continues executing.\n",
    "\n",
    "        Ignore: Suppresses the error message and continues to execute the command. The Ignore value is intended for per-command use, not for use as saved preference. Ignore isnt a valid value for the $ErrorActionPreference variable.\n",
    "\n",
    "        Inquire: Displays the error message and asks you whether you want to continue.\n",
    "\n",
    "        SilentlyContinue: No effect. The error message isnt displayed, and execution continues without interruption.\n",
    "\n",
    "        Stop: Displays the error message and stops executing. In addition to the error generated, the Stop value generates an ActionPreferenceStopException object to the error stream.\n",
    "\n",
    "        Suspend: Automatically suspends a workflow job to allow for further investigation. After investigation, the workflow can be resumed. The Suspend value is intended for per-command use, not for use as saved preference. Suspend isnt a valid value for the $ErrorActionPreference variable.\n",
    "\n",
    "'''\n"
   ]
  },
  {
   "cell_type": "code",
   "execution_count": null,
   "metadata": {
    "vscode": {
     "languageId": "powershell"
    }
   },
   "outputs": [],
   "source": [
    "# Script Name: ProcessesAndNetwork.ps1\n",
    "# Description: This script uses several of the concepts learned in this course to display processes or network connections to the user.\n",
    "\n",
    "function Show-ProcessesOrNetwork {\n",
    "\n",
    "    # Parameters to store the process name or port number supplied by the user at run time\n",
    "    param (\n",
    "        [string]$ProcessName,\n",
    "        [int]$PortNumber\n",
    "    )\n",
    "\n",
    "    $continue = $true\n",
    "\n",
    "    # While loop to run the script until the user enters the choice to exit or presses Ctrl + C\n",
    "    while ($continue) {\n",
    "        Write-Host \"Choose an option:\"\n",
    "        Write-Host \"1. Show Running Processes\"\n",
    "        Write-Host \"2. Show Network Connections\"\n",
    "        Write-Host \"3. Show Processes by Name\"\n",
    "        Write-Host \"4. Show Network Connections by Port\"\n",
    "        Write-Host \"5. Exit\"\n",
    "\n",
    "        $choice = Read-Host \"Enter 1, 2, 3, 4, or 5\"\n",
    "\n",
    "        # Switch construct that provides the user with different outcomes based on their choice\n",
    "        switch ($choice) {\n",
    "            1 {\n",
    "                Write-Host \"Running Processes:\"\n",
    "                Get-Process\n",
    "                break\n",
    "            }\n",
    "            2 {\n",
    "                Write-Host \"Network Connections:\"\n",
    "                Get-NetTCPConnection\n",
    "                break\n",
    "            }\n",
    "            3 { # Prompt the user for a Process Name to search for with the Get-Process cmdlet\n",
    "                if (-not $ProcessName) {\n",
    "                    $ProcessName = Read-Host \"Enter the name of the process to search for\"\n",
    "                }\n",
    "                Write-Host \"Processes matching '$ProcessName':\"\n",
    "                Get-Process -Name $ProcessName\n",
    "\n",
    "                # Resets the process name to an empty string so the user can enter a new one\n",
    "                $ProcessName = \"\"\n",
    "                break\n",
    "            }\n",
    "            4 { # Prompt the user for a port number to search for with the Get-NetTCPConnection cmdlet\n",
    "                if (-not $PortNumber) {\n",
    "                    $PortNumber = Read-Host \"Enter the network port to search for\"\n",
    "                }\n",
    "                Write-Host \"Network Connections on port:\"$PortNumber\n",
    "                Get-NetTCPConnection | Where-Object { $_.LocalPort -eq $PortNumber -or $_.RemotePort -eq $PortNumber } | Format-List\n",
    "\n",
    "                # Resets the port number to an empty string so the user can enter a new one\n",
    "                $PortNumber = \"\"\n",
    "                break\n",
    "            }\n",
    "            5 {\n",
    "                Write-Host \"Exiting...\"\n",
    "                $continue = $false\n",
    "                break\n",
    "            }\n",
    "            default {\n",
    "                Write-Host \"Invalid choice. Please enter 1, 2, 3, 4, or 5. Try again.\"\n",
    "            }\n",
    "        }\n",
    "    }\n",
    "}\n",
    "\n",
    "Show-ProcessesOrNetwork"
   ]
  },
  {
   "cell_type": "code",
   "execution_count": null,
   "metadata": {
    "vscode": {
     "languageId": "powershell"
    }
   },
   "outputs": [],
   "source": [
    "# Script Name: ProcessesAndNetworkRemote.ps1\n",
    "<# Description: This script uses several of the concepts learned in this course to display processes or network connections to the user on the local host.\n",
    "It is a repurposed version of ProcessesAndNetwork.ps1 script that includes remote functionality and some event handling using more concepts learned during this course. #>\n",
    "\n",
    "function Show-ProcessesOrNetwork {\n",
    "\n",
    "    # Gets domain credentials for PSRemoting\n",
    "    $Creds = Get-Credential\n",
    "    # Stores the current value of your trusted hosts file for later use.\n",
    "    $WSMan = Get-Item WSMan:\\localhost\\Client\\TrustedHosts | Select-Object Value\n",
    "    # Allow your host to connect to multiple hosts using PSRemoting.\n",
    "    Set-Item WSMan:\\localhost\\Client\\TrustedHosts -Value * -Force\n",
    "\n",
    "    # Stores user provided IP addresses into a variable, splits them on the comma, and gets each unique IP and stores them in a separate variable.\n",
    "    $IPAddresses = Read-Host \"Enter one or more IP addresses (separated by commas)\"\n",
    "    $IPAddresses = $IPAddresses -split ','\n",
    "    $UniqueIPs = $IPAddresses | Get-Unique\n",
    "\n",
    "    # Event handler in the case CTRL+C is pressed during run time using a Try/Finally construct.\n",
    "    Try {\n",
    "\n",
    "        # Ensures the script will continue to run after each selection is made until option 5 is chosen or Ctrl+C is sent.\n",
    "        $continue = $true\n",
    "\n",
    "        # While Loop that will continue as long as the $continue variable resolves to $true.\n",
    "        while ($continue) {\n",
    "            Write-Host \"Choose an option:`n1. Show Running Processes`n2. Show Network Connections`n3. Show Processes by Name`n4. Show Established Network Connections by Port`n5. Exit\"\n",
    "\n",
    "            # Reads user input for their selection.\n",
    "            $choice = Read-Host \"Enter 1, 2, 3, 4, or 5\"\n",
    "\n",
    "            # Switch construct that provides the user with different outcomes based on their choice\n",
    "            switch ($choice) {\n",
    "                1 { # Foreach Loop that Checks a remote computer or computers for all running processes.\n",
    "                    foreach ($IP in $UniqueIPs) {\n",
    "                        $result = Invoke-Command -ComputerName $IP -ScriptBlock {Get-Process | Select-Object -Property ProcessName,ID,Path | Format-Table} -Credential $Creds -ErrorAction SilentlyContinue\n",
    "\n",
    "                        if ($result) {\n",
    "                            Write-Host \"Showing Processes Running on \"\"$IP\"\":\"`n\n",
    "                            $result | ForEach-Object { $_ }\n",
    "                        }\n",
    "                    }\n",
    "                    break\n",
    "                }\n",
    "                2 { # Foreach Loop that Checks a remote computer or computers for network connections.\n",
    "                    foreach ($IP in $UniqueIPs) {\n",
    "                        $result = Invoke-Command -ComputerName $IP -ScriptBlock {\n",
    "                            Get-NetTCPConnection |\n",
    "                            Select-Object -Property LocalAddress,RemoteAddress,State,LocalPort,RemotePort |\n",
    "                            Where-Object {\n",
    "                                $_.LocalAddress -ne \"0.0.0.0\" -and $_.LocalAddress -ne \"::\" -and $_.LocalAddress -notlike \"fe*\" -and\n",
    "                                $_.RemoteAddress -ne \"0.0.0.0\" -and $_.RemoteAddress -notlike \"::*\" -and $_.RemoteAddress -notlike \"fe*\"\n",
    "                            } |\n",
    "                            Format-Table\n",
    "                        } -Credential $Creds -ErrorAction SilentlyContinue\n",
    "\n",
    "                        if ($result) {\n",
    "                            Write-Host \"Showing Network Connections on \"\"$IP\"\":\" `n\n",
    "                            $result | ForEach-Object { $_ }\n",
    "                        }\n",
    "                    }\n",
    "                    break\n",
    "                }\n",
    "                3 { # If statement to check that the ProcessName parameter is empty and if it is, it asks the user to provide a process name.\n",
    "                    if (-not $ProcessName) {\n",
    "                        $ProcessName = Read-Host \"Enter the name of the process to search for\"\n",
    "                    }\n",
    "\n",
    "                    # Foreach Loop that Checks a remote computer or computers for running processes that match the user provided input.\n",
    "                    foreach ($IP in $UniqueIPs) {\n",
    "                        $result = Invoke-Command -ComputerName $IP -ScriptBlock {\n",
    "                            param($ProcessName)\n",
    "                            Get-Process -Name $ProcessName -ErrorAction SilentlyContinue | Select-Object -Property ProcessName, ID, Path\n",
    "                        } -ArgumentList $ProcessName -Credential $Creds\n",
    "\n",
    "                        if ($result) {\n",
    "                            Write-Host \"$ProcessName is Running on \"\"$IP\"\"\" `n\n",
    "                            $result | Select-Object -Property PSComputerName,ProcessName, ID, Path | Format-Table\n",
    "                        } else {\n",
    "                            Write-Host \"$ProcessName is not Running on \"\"$IP\"\"\" `n\n",
    "                        }\n",
    "\n",
    "                        $ProcessName = \"\"\n",
    "                    }\n",
    "\n",
    "                    break\n",
    "                 }\n",
    "                 4 { # If statement to check that the PortNumber parameter is empty and if it is, it asks the user to provide a port number.\n",
    "                    if (-not $PortNumber) {\n",
    "                        $PortNumber = Read-Host \"Enter the network port to search for\"\n",
    "                    }\n",
    "\n",
    "                    # Foreach Loop that Checks a remote computer or computers for established connections on a port provided by the user.\n",
    "                    foreach ($IP in $UniqueIPs) {\n",
    "                        $result =  Invoke-Command -ComputerName $IP -Credential $Creds -ScriptBlock {\n",
    "                            param($PortNumber)\n",
    "                            Get-NetTCPConnection | Where-Object { $_.LocalPort -eq $PortNumber -and $_.State -eq \"established\" -or $_.RemotePort -eq $PortNumber -and $_.State -eq \"established\"  }\n",
    "                        } -ArgumentList $PortNumber\n",
    "\n",
    "                        if ($result) {\n",
    "                            Write-Host \"Network Connections on port $PortNumber on \"\"$IP\"\"\" `n\n",
    "                            $result | Format-List\n",
    "                        } else {\n",
    "                            Write-Host \"Port $PortNumber not found in any connections on \"\"$IP\"\"\" `n\n",
    "                        }\n",
    "\n",
    "                        $PortNumber = \"\"\n",
    "\n",
    "                    }\n",
    "\n",
    "                    break\n",
    "                }\n",
    "                5 { # Exit option that will exit the script gracefully.\n",
    "                    Write-Host \"Exiting...\"\n",
    "                    $continue = $false\n",
    "                    break\n",
    "                }\n",
    "                default { # Default option will trigger if any invalid input is provided when the user is selecting a choice.\n",
    "                    Write-Host \"Invalid choice. Please enter 1, 2, 3, 4, or 5. Try again.`n\"\n",
    "                }\n",
    "            }\n",
    "\n",
    "\n",
    "        }\n",
    "    }\n",
    "    Finally {\n",
    "        # Return WSMan to its original setting even if a CTRL+C interrupt event takes place.\n",
    "        Set-Item WSMan:\\localhost\\Client\\TrustedHosts -Value $WSMan.Value -Force\n",
    "    }\n",
    "}\n",
    "\n",
    "# Calls the primary function of the script.\n",
    "Show-ProcessesOrNetwork"
   ]
  },
  {
   "cell_type": "code",
   "execution_count": null,
   "metadata": {
    "vscode": {
     "languageId": "powershell"
    }
   },
   "outputs": [],
   "source": [
    "#Question 11 Scripting 2\n",
    "$creds = Get-Credential\n",
    "invoke-command -computername 10.50.35.169 -credential $creds -scriptblock{get-itempropert 'HKLM:\\Software\\Microsoft\\Windows\\CurrentVersion\\Run'}"
   ]
  },
  {
   "cell_type": "code",
   "execution_count": null,
   "metadata": {
    "vscode": {
     "languageId": "powershell"
    }
   },
   "outputs": [],
   "source": [
    "#Question 12 Scripting 3\n",
    "'''Write a PowerShell script that will remotely query network information for 10.50.35.169 and return the results. \n",
    "The flag is the suspicious port number that is in a listening state.'''\n",
    "\n",
    "invoke-command -computername 10.50.35.169 -credential $creds -scriptblock{get-nettcpconnection | where-object 'State' -eq 'Listen'}"
   ]
  },
  {
   "cell_type": "code",
   "execution_count": null,
   "metadata": {
    "vscode": {
     "languageId": "powershell"
    }
   },
   "outputs": [],
   "source": [
    "#Question 13 Script Repurposing 1\n",
    "<#Using the PowerShell script you created to find the listening port, repurpose that script to determine the process ID of the process that is opening the suspicious port. \n",
    "Once you find the process ID, determine the name of the executable. \n",
    "The flag is the name of the executable.#>\n",
    "\n",
    "invoke-command -computername 10.50.35.169 -credential $creds -scriptblock{get-nettcpconnection | where-object 'State' -eq 'Listen'}"
   ]
  },
  {
   "cell_type": "code",
   "execution_count": null,
   "metadata": {
    "vscode": {
     "languageId": "powershell"
    }
   },
   "outputs": [],
   "source": [
    "#Question15 Scripting 4\n",
    "$result = Invoke-Command -ComputerName 10.50.35.169 -credential $creds -ScriptBlock {\n",
    "    Get-content 'C:\\Users\\Defender\\Documents\\SuperSecretSauce.rtf'} \n",
    "\n",
    "$result"
   ]
  },
  {
   "cell_type": "code",
   "execution_count": null,
   "metadata": {
    "vscode": {
     "languageId": "powershell"
    }
   },
   "outputs": [],
   "source": [
    "#Question16 Scripting 5\n",
    "Invoke-Command -ComputerName 10.50.35.169 -Credential $Creds -ScriptBlock {$Content = \n",
    "    \"cmd.exe /c ping -n 1 10.50.35.169\"; $FilePath = \"C:\\Users\\Defender\\Desktop\\Cook_24-501.ps1\"; Set-Content -Path $FilePath -Value $Content}"
   ]
  },
  {
   "cell_type": "code",
   "execution_count": null,
   "metadata": {
    "vscode": {
     "languageId": "powershell"
    }
   },
   "outputs": [],
   "source": [
    "#Question 17 Scripting 6\n",
    "<#Using PowerShell, write code that will create a PowerShell script on 10.50.35.169. Name your script LastName_ClassNumber.ps1, ex. Doe_24-001.ps1.#>\n",
    "Invoke-Command -ComputerName 10.50.35.169 -Credential $Creds -ScriptBlock {$Content = \"cmd.exe /c ping -n 1 10.50.35.169\"; $FilePath = \"C:\\Users\\Defender\\Desktop\\Cook_24-501.ps1\"; Set-Content -Path $FilePath -Value $Content}\n",
    "Invoke-Command -ComputerName 127.0.0.1 -Credential $Creds -ScriptBlock {$Process = get-process | format-table; $network = get-nettcpconnection | format-table; $FilePath = \"C:\\Users\\Student\\Desktop\\Cook_24-501.txt\"; Set-Content -Path $FilePath -Value $Process; add-content -Path $FilePath -Value $network}"
   ]
  },
  {
   "cell_type": "code",
   "execution_count": null,
   "metadata": {
    "vscode": {
     "languageId": "powershell"
    }
   },
   "outputs": [],
   "source": [
    "Invoke-Command -ComputerName 10.50.35.169 -Credential $Creds -ScriptBlock {powershell.exe \"C:\\Users\\Defender\\Desktop\\Cook_24-501.ps1\" | \n",
    "    $FilePath = \"C:\\Users\\Defender\\Desktop\\Cook_24-501.txt\";\n",
    "    Set-Content -Path $FilePath -Value $Process; \n",
    "    add-content -Path $FilePath -Value $network}"
   ]
  },
  {
   "cell_type": "code",
   "execution_count": null,
   "metadata": {
    "vscode": {
     "languageId": "powershell"
    }
   },
   "outputs": [],
   "source": [
    "Invoke-Command -ComputerName 127.0.0.1 -Credential $Creds -ScriptBlock {$Process = get-process | select-object name,id,path; \n",
    "    $network = get-nettcpconnection | select-object localport, remoteport, owningprocess;\n",
    "    $FilePath = \"C:\\Users\\Student\\Desktop\\Cook_24-501.txt\";\n",
    "    Set-Content -Path $FilePath -Value $Process; \n",
    "    add-content -Path $FilePath -Value $network;\n",
    "}\n"
   ]
  },
  {
   "cell_type": "code",
   "execution_count": null,
   "metadata": {
    "vscode": {
     "languageId": "powershell"
    }
   },
   "outputs": [],
   "source": [
    "Invoke-Command -ComputerName 10.50.35.169 -Credential $Creds -ScriptBlock {\n",
    "    $Content = \"$Process = get-process | select-object name,id,path; $network = get-nettcpconnection | select-object localport, remoteport, owningprocess;\" \n",
    "    $FilePath = \"C:\\Users\\Defender\\Desktop\\Cook_24-501.ps1\"; Set-Content -Path $FilePath -Value $Content;\n",
    "    powershell.exe 'C:\\Users\\Defender\\Desktop\\Cook_24-501.ps1'\n",
    "\n",
    "};\n",
    "    "
   ]
  },
  {
   "cell_type": "code",
   "execution_count": null,
   "metadata": {
    "vscode": {
     "languageId": "powershell"
    }
   },
   "outputs": [],
   "source": [
    "invoke-command -computername 10.50.35.169 -credential $creds -scriptblock{get-process | select-object name,id,status,path | where-object name -like \"*defender*\"| format-table}"
   ]
  },
  {
   "cell_type": "code",
   "execution_count": null,
   "metadata": {
    "vscode": {
     "languageId": "powershell"
    }
   },
   "outputs": [],
   "source": [
    "PS C:\\Users\\student> Invoke-Command -ComputerName 10.50.35.169 -Credential $Creds -ScriptBlock {powershell.exe \"C:\\Users\\Defender\\Desktop\\Cook_24-501.ps1\";\n",
    ">>     $FilePath = \"C:\\Users\\Defender\\Desktop\\Cook_24-501.txt\";\n",
    ">>     Set-Content -Path $FilePath -Value $Process;\n",
    ">>     add-content -Path $FilePath -Value $network}\n"
   ]
  },
  {
   "cell_type": "code",
   "execution_count": null,
   "metadata": {
    "vscode": {
     "languageId": "powershell"
    }
   },
   "outputs": [],
   "source": [
    "Invoke-Command -ComputerName 10.50.35.169 -Credential $Creds -ScriptBlock {\n",
    "    $source = \"c:\\Users\\Defender\\Desktop\\Cook_24-501.txt\";\n",
    "    $destination = \"\\\\192.168.65.10\\Users\\Desktop\";\n",
    "    copy-item -path $source -destination $destination\n",
    "}"
   ]
  }
 ],
 "metadata": {
  "language_info": {
   "name": "python"
  }
 },
 "nbformat": 4,
 "nbformat_minor": 2
}
