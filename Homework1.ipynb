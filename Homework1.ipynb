{
 "cells": [
  {
   "cell_type": "markdown",
   "metadata": {},
   "source": [
    "### Homework 1\n",
    "\n",
    "#### Input\n",
    "- Create a program that accepts user's age, first name, last name as input\n",
    "\n",
    "#### Outputs\n",
    "1. A sentence that states the user's birth year\n",
    "2. 3 possible username formats based on their first name and last name\n",
    "3. 2 possible years the user might have graduated high school\n",
    "4. 3 possible '@gmail.com' email addresses based on the previously identified username formats\n",
    "5. Percentage of life completed based on the life expectancy of 73.4\n",
    "\n",
    "#### General Program Requirements\n",
    "1. Shebang so it can be run by executing the file\n",
    "2. Use both string concatenation and string formatting at least once\n",
    "3. Use appropriate variables to assign your values\n",
    "4. Use appropriate comments to explain how your program is functioning\n",
    "5. Name your file \"lname_hw1.py\""
   ]
  },
  {
   "cell_type": "code",
   "execution_count": 8,
   "metadata": {},
   "outputs": [
    {
     "name": "stdout",
     "output_type": "stream",
     "text": [
      "The user's birth year is 1988\n",
      "Possible usernames: Daniel.Cook, Daniel.C, D.Cook\n",
      "You graduated high school in 2006 or 2007\n",
      "Your possible email addresses are Daniel.Cook@gmail.com or Daniel.C@gmail.com or D.Cook@gmail.com\n",
      "You've lived  49.05 of your life\n"
     ]
    }
   ],
   "source": [
    "#!/usr/bin/env python3\n",
    "# Collect the user's age, first name, and last name & assign as variables\n",
    "from datetime import datetime\n",
    "age = int(input(\"Please enter your age: \"))\n",
    "fName = input(\"Please enter your first name: \")\n",
    "lName = input(\"Please enter your last name: \")\n",
    "\n",
    "#Get current datetime, convert age input to int, calculate birthyear, and report back to user\n",
    "currentDatetime = datetime.now()\n",
    "birthyear = currentDatetime.year - age\n",
    "print(f'The user\\'s birth year is {birthyear}')\n",
    "\n",
    "#Generate and print usernames\n",
    "uName1 = fName + \".\" + lName\n",
    "uName2 = fName + \".\" + lName[0]\n",
    "uName3 = fName[0] + \".\" + lName\n",
    "print(f'Possible usernames: {uName1}, {uName2}, {uName3}')\n",
    "\n",
    "#Calculate and print possible HS grad years\n",
    "grad1 = birthyear + 18\n",
    "grad2 = birthyear + 19\n",
    "print(f'You graduated high school in {grad1} or {grad2}')\n",
    "\n",
    "#Generate and print possible email addresses\n",
    "emailDomain = \"@gmail.com\"\n",
    "print(f'Your possible email addresses are {uName1+emailDomain} or {uName2+emailDomain} or {uName3+emailDomain}')\n",
    "\n",
    "#Calculate and print percentage of life expectancy elapsed\n",
    "expectedLife = 73.4\n",
    "percentage = age / expectedLife * 100\n",
    "print(f'You\\'ve lived {percentage: .2f} of your life')"
   ]
  }
 ],
 "metadata": {
  "kernelspec": {
   "display_name": "Python 3",
   "language": "python",
   "name": "python3"
  },
  "language_info": {
   "codemirror_mode": {
    "name": "ipython",
    "version": 3
   },
   "file_extension": ".py",
   "mimetype": "text/x-python",
   "name": "python",
   "nbconvert_exporter": "python",
   "pygments_lexer": "ipython3",
   "version": "3.8.10"
  }
 },
 "nbformat": 4,
 "nbformat_minor": 2
}
