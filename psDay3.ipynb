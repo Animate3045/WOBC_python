{
 "cells": [
  {
   "cell_type": "code",
   "execution_count": null,
   "metadata": {
    "vscode": {
     "languageId": "powershell"
    }
   },
   "outputs": [],
   "source": [
    "get-childitem | sort-object"
   ]
  },
  {
   "cell_type": "code",
   "execution_count": null,
   "metadata": {
    "vscode": {
     "languageId": "powershell"
    }
   },
   "outputs": [],
   "source": [
    "get-childitem | sort-object -Property Length -Descending"
   ]
  },
  {
   "cell_type": "code",
   "execution_count": null,
   "metadata": {
    "vscode": {
     "languageId": "powershell"
    }
   },
   "outputs": [],
   "source": [
    "#filter left, sort right\n",
    "Measure-Command { Get-Process | Sort-Object -Property Id | Select-Object Name, Id };\n",
    "#versus\n",
    "Measure-Command { Get-Process | Select-Object Name, Id | Sort-Object -Property Id };"
   ]
  },
  {
   "cell_type": "code",
   "execution_count": null,
   "metadata": {
    "vscode": {
     "languageId": "powershell"
    }
   },
   "outputs": [],
   "source": [
    "Get-Process | Select-Object -Property Name, ID -First 5"
   ]
  },
  {
   "cell_type": "code",
   "execution_count": null,
   "metadata": {
    "vscode": {
     "languageId": "powershell"
    }
   },
   "outputs": [],
   "source": [
    "et-Process | Select-Object -Property Name, ID -Last 5"
   ]
  },
  {
   "cell_type": "code",
   "execution_count": null,
   "metadata": {
    "vscode": {
     "languageId": "powershell"
    }
   },
   "outputs": [],
   "source": [
    "#use -expandproperty to remove the colum header\n",
    "Get-Process | Select-Object -ExpandProperty Name -First 5"
   ]
  },
  {
   "cell_type": "code",
   "execution_count": null,
   "metadata": {
    "vscode": {
     "languageId": "powershell"
    }
   },
   "outputs": [],
   "source": [
    "Get-Service | Where-Object { $_.Status -eq 'running' -and $_.name -like 'WIN*'}"
   ]
  },
  {
   "cell_type": "code",
   "execution_count": null,
   "metadata": {
    "vscode": {
     "languageId": "powershell"
    }
   },
   "outputs": [],
   "source": [
    "Get-ChildItem -path C:\\windows\\System32 | Group-Object -property extension | sort-object -property count -descending | select-object -first 5"
   ]
  },
  {
   "cell_type": "code",
   "execution_count": null,
   "metadata": {
    "vscode": {
     "languageId": "powershell"
    }
   },
   "outputs": [],
   "source": [
    "$ipAddressString = \"172.64.0.100\"\n",
    "$ipAddress = [System.Net.IPAddress]::Parse($ipAddressString)\n",
    "\n",
    "if ($ipAddress.AddressFamily -eq 'InterNetwork' -and (\n",
    "    ($ipAddress.IPAddressToString -ge [System.Net.IPAddress]::Parse(\"10.0.0.0\").IPAddressToString -and $ipAddress.IPAddressToString -le [System.Net.IPAddress]::Parse(\"10.255.255.255\").IPAddressToString) -or\n",
    "    ($ipAddress.IPAddressToString -ge [System.Net.IPAddress]::Parse(\"172.16.0.0\").IPAddressToString -and $ipAddress.IPAddressToString -le [System.Net.IPAddress]::Parse(\"172.31.255.255\").IPAddressToString) -or\n",
    "    ($ipAddress.IPAddressToString -ge [System.Net.IPAddress]::Parse(\"192.168.0.0\").IPAddressToString -and $ipAddress.IPAddressToString -le [System.Net.IPAddress]::Parse(\"192.168.255.255\").IPAddressToString)))\n",
    "{\n",
    "    Write-Output \"The IP $ipAddressString is in the private IP address space.\"\n",
    "} elseif ($ipAddress.AddressFamily -eq 'InterNetwork' -and (\n",
    "    ($ipAddress.IPAddressToString -ge [System.Net.IPAddress]::Parse(\"0.0.0.0\").IPAddressToString -and $ipAddress.IPAddressToString -le [System.Net.IPAddress]::Parse(\"9.255.255.255\").IPAddressToString) -or\n",
    "    ($ipAddress.IPAddressToString -ge [System.Net.IPAddress]::Parse(\"11.0.0.0\").IPAddressToString -and $ipAddress.IPAddressToString -le [System.Net.IPAddress]::Parse(\"172.15.255.255\").IPAddressToString) -or\n",
    "    ($ipAddress.IPAddressToString -ge [System.Net.IPAddress]::Parse(\"172.32.0.0\").IPAddressToString -and $ipAddress.IPAddressToString -le [System.Net.IPAddress]::Parse(\"192.167.255.255\").IPAddressToString) -or\n",
    "    ($ipAddress.IPAddressToString -ge [System.Net.IPAddress]::Parse(\"192.169.0.0\").IPAddressToString -and $ipAddress.IPAddressToString -le [System.Net.IPAddress]::Parse(\"255.255.255.255\").IPAddressToString)))\n",
    "{\n",
    "    Write-Output \"The IP $ipAddressString is in the public IP address space.\"\n",
    "} else {\n",
    "    Write-Output \"$ipAddressString is an Invalid IP address.\"\n",
    "}"
   ]
  },
  {
   "cell_type": "code",
   "execution_count": null,
   "metadata": {
    "vscode": {
     "languageId": "powershell"
    }
   },
   "outputs": [],
   "source": [
    "PS C:\\> $FreeSpace = (Get-PSDrive -PSProvider FileSystem | Select-Object -Property @{Name='GBFree'; Expression={[math]::Round($_.Free / 1GB, 2)}} -First 1).GBFree\n",
    "PS C:\\> if($FreeSpace -gt 250) {\n",
    "            Write-Host \"You have more than 250GB of disk space available\"\n",
    "        } else {\n",
    "            Write-Host \"You have less than 250GB of disk space available\"\n",
    "        }"
   ]
  },
  {
   "cell_type": "code",
   "execution_count": null,
   "metadata": {
    "vscode": {
     "languageId": "powershell"
    }
   },
   "outputs": [],
   "source": [
    "PS C:\\> $FreeSpace = .5\n",
    "PS C:\\> if($FreeSpace -gt 250) {\n",
    "            Write-Host \"You have more than 250GB of disk space available\"\n",
    "        } elseif (($FreeSpace -gt 100) -and ($FreeSpace -lt 250)){\n",
    "            Write-Host \"You have more than 100GB of disk space, but less then 250GB available\"\n",
    "        } elseif (($FreeSpace -lt 100) -and ($FreeSpace -gt 1)){\n",
    "            Write-Host \"You have less than 100GB of disk space available\"\n",
    "        } elseif ($FreeSpace -lt 1) {\n",
    "            Write-Host \"Get a new hard drive!\"\n",
    "        } else {Write-Host \"Monitoring Microsoft Edge process every 60 seconds.\" `n\n",
    "        $FilePath = (Get-CimInstance Win32_Process | Select-Object -Property Name, ProcessID, ParentProcessID, Path | Where-Object {$_.Name -eq \"msedge.exe\"}).Path\n",
    "        $processToMonitor = \"msedge\"\n",
    "        do {\n",
    "            $isProcessRunning = Get-Process -Name $processToMonitor\n",
    "\n",
    "            if ($isProcessRunning) {\n",
    "                Write-Host \"Warning: $processToMonitor is running, performing analysis on the process.\" `n\n",
    "                Write-Host \"-------------Gathering Process Information...--------------\"\n",
    "                Start-Sleep -Seconds 3\n",
    "                Write-Output (Get-CimInstance Win32_Process | Select-Object -Property Name, ProcessID, ParentProcessID, Path | Where-Object {$_.Name -eq \"msedge.exe\"} | Format-Table)\n",
    "\n",
    "                Write-Host \"-------------Gathering Process Filehash...--------------\"\n",
    "                Start-Sleep -Seconds 3\n",
    "                $FileHash = (Get-FileHash -Algorithm SHA256 -Path $FilePath | Format-Table)\n",
    "                Write-Output $FileHash\n",
    "\n",
    "                Write-Host \"-------------Gathering Network Information...--------------\"\n",
    "                Start-Sleep -Seconds 3\n",
    "                $ProcessIDs = (Get-Process | Select-Object -Property Name, ID | Where-Object {$_.Name -eq \"msedge\"}).Id\n",
    "                $Network = foreach ($ID in $ProcessIDs) {\n",
    "                    Get-NetTCPConnection | Select-Object -Property LocalAddress, RemoteAddress, RemotePort, OwningProcess, State | Where-Object { $_.OwningProcess -eq $ID -and $_.State -ne \"Bound\" }\n",
    "                }\n",
    "                Write-Output $Network | Format-Table\n",
    "            }\n",
    "            Start-Sleep -Seconds 60\n",
    "        } until (-not $isProcessRunning)\n",
    "            Write-Host \"You have less than 250GB of disk space available\"\n",
    "        }"
   ]
  },
  {
   "cell_type": "code",
   "execution_count": null,
   "metadata": {
    "vscode": {
     "languageId": "powershell"
    }
   },
   "outputs": [],
   "source": [
    "PS C:\\> Switch (3) {\n",
    "    1 { Write-Host \"You selected menu item 1\" }\n",
    "    2 { Write-Host \"You selected menu item 2\" }\n",
    "    3 { Write-Host \"You selected menu item 3\" }\n",
    "    Default { Write-Host \"You did not select a valid option\" }\n",
    "}\n"
   ]
  },
  {
   "cell_type": "code",
   "execution_count": null,
   "metadata": {
    "vscode": {
     "languageId": "powershell"
    }
   },
   "outputs": [],
   "source": [
    "PS C:\\> $ip = '172.64.0.100'\n",
    "PS C:\\> Switch -WildCard ($ip) {\n",
    "            \"192.168.*\" { Write-Host \"This computer is on the internal local area network\" }\n",
    "            \"10.15.*\" { Write-Host \"This computer is in the Branch network\" }\n",
    "            \"172.64.*\" { Write-Host \"This computer is in the DMZ network\" }\n",
    "            Default { Write-Host \"This computer is not on the network\" }\n",
    "        }"
   ]
  },
  {
   "cell_type": "code",
   "execution_count": null,
   "metadata": {
    "vscode": {
     "languageId": "powershell"
    }
   },
   "outputs": [],
   "source": [
    "PS C:\\> $ipArray = @('172.64.0.100', '10.50.35.169','10.15.0.100','22.25.55.255')\n",
    "PS C:\\> $ipArray | ForEach-Object {\n",
    "            $ip = $_\n",
    "            $index = $ipArray.IndexOf($ip)\n",
    "\n",
    "            switch -Wildcard ($ip) {\n",
    "                \"192.168.*\" { Write-Host (\"$ip is on the internal local area network\") }\n",
    "                \"10.15.*\" { Write-Host (\"$ip is in the Branch network\") }\n",
    "                \"172.64.*\" { Write-Host (\"$ip is in the DMZ network\") }\n",
    "                Default { Write-Host (\"$ip is not on the network\") }\n",
    "            }\n",
    "        }\n"
   ]
  },
  {
   "cell_type": "code",
   "execution_count": null,
   "metadata": {
    "vscode": {
     "languageId": "powershell"
    }
   },
   "outputs": [],
   "source": [
    "taskkill /F /IM msedge.exe\n"
   ]
  },
  {
   "cell_type": "code",
   "execution_count": null,
   "metadata": {
    "vscode": {
     "languageId": "powershell"
    }
   },
   "outputs": [],
   "source": [
    "Write-Host \"Monitoring Microsoft Edge process every 60 seconds.\" `n\n",
    "        $FilePath = (Get-CimInstance Win32_Process | Select-Object -Property Name, ProcessID, ParentProcessID, Path | Where-Object {$_.Name -eq \"msedge.exe\"}).Path\n",
    "        $processToMonitor = \"msedge\"\n",
    "        do {\n",
    "            $isProcessRunning = Get-Process -Name $processToMonitor\n",
    "\n",
    "            if ($isProcessRunning) {\n",
    "                Write-Host \"Warning: $processToMonitor is running, performing analysis on the process.\" `n\n",
    "                Write-Host \"-------------Gathering Process Information...--------------\"\n",
    "                Start-Sleep -Seconds 3\n",
    "                Write-Output (Get-CimInstance Win32_Process | Select-Object -Property Name, ProcessID, ParentProcessID, Path | Where-Object {$_.Name -eq \"msedge.exe\"} | Format-Table)\n",
    "\n",
    "                Write-Host \"-------------Gathering Process Filehash...--------------\"\n",
    "                Start-Sleep -Seconds 3\n",
    "                $FileHash = (Get-FileHash -Algorithm SHA256 -Path $FilePath | Format-Table)\n",
    "                Write-Output $FileHash\n",
    "\n",
    "                Write-Host \"-------------Gathering Network Information...--------------\"\n",
    "                Start-Sleep -Seconds 3\n",
    "                $ProcessIDs = (Get-Process | Select-Object -Property Name, ID | Where-Object {$_.Name -eq \"msedge\"}).Id\n",
    "                $Network = foreach ($ID in $ProcessIDs) {\n",
    "                    Get-NetTCPConnection | Select-Object -Property LocalAddress, RemoteAddress, RemotePort, OwningProcess, State | Where-Object { $_.OwningProcess -eq $ID -and $_.State -ne \"Bound\" }\n",
    "                }\n",
    "                Write-Output $Network | Format-Table\n",
    "            }\n",
    "            Start-Sleep -Seconds 60\n",
    "        } until (-not $isProcessRunning)"
   ]
  },
  {
   "cell_type": "code",
   "execution_count": null,
   "metadata": {
    "vscode": {
     "languageId": "powershell"
    }
   },
   "outputs": [],
   "source": [
    "Get-CIMInstance Win32_networkadapterconfiguration | select-object -property dnshostname, interfaceindex, ipaddress, ipsubnet | format-list"
   ]
  },
  {
   "cell_type": "code",
   "execution_count": null,
   "metadata": {
    "vscode": {
     "languageId": "powershell"
    }
   },
   "outputs": [],
   "source": [
    "get-CIMInstance -Classname Win32_Process | select-object name, processid, partentprocessid"
   ]
  },
  {
   "cell_type": "code",
   "execution_count": null,
   "metadata": {
    "vscode": {
     "languageId": "powershell"
    }
   },
   "outputs": [],
   "source": [
    "# Enable PSRemoting and skip the network profile check to avoid errors\n",
    "Enable-PSRemoting -SkipNetworkProfileCheck -Force\n",
    "# Check trusted hosts file\n",
    "Get-Item WSMan:\\localhost\\client\\TrustedHosts\n",
    "# Set trusted hosts to allow your connection to a desired host or hosts. Multiple trusted hosts can be created in a comma separated list and stored in a variable for use with this command\n",
    "# Enter \"Y\" when prompted\n",
    "Set-Item WSMan:\\localhost\\Client\\TrustedHosts -Value 10.50.35.169\n",
    "# Will allow incoming and outgoing - risky to put a *\n",
    "$creds = get-credential\n",
    "enter-pssession -computername = 10.50.35.169 -credential $creds"
   ]
  },
  {
   "cell_type": "code",
   "execution_count": null,
   "metadata": {
    "vscode": {
     "languageId": "powershell"
    }
   },
   "outputs": [],
   "source": [
    "invoke-command -computername 192.168.1.1 -credential $creds -scriptblock{get-process}"
   ]
  },
  {
   "cell_type": "code",
   "execution_count": null,
   "metadata": {
    "vscode": {
     "languageId": "powershell"
    }
   },
   "outputs": [],
   "source": [
    "$network = invoke-command -computername 192.168.1.250 -credential $creds -scriptblock{get-nettcpconnection}; $network | out-file -filepath \"C:\\Users\\Student\\Desktop\\NetworkResults.txt\""
   ]
  }
 ],
 "metadata": {
  "language_info": {
   "name": "python"
  }
 },
 "nbformat": 4,
 "nbformat_minor": 2
}
