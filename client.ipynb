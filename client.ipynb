{
 "cells": [
  {
   "cell_type": "code",
   "execution_count": 2,
   "metadata": {},
   "outputs": [
    {
     "name": "stdout",
     "output_type": "stream",
     "text": [
      "bytearray(b'')\n",
      "bytearray(b'Hell')\n",
      "bytearray(b'Hello an')\n",
      "bytearray(b'Hello and we')\n",
      "bytearray(b'Hello and welcom')\n",
      "bytearray(b'Hello and welcome to')\n",
      "bytearray(b'Hello and welcome to the')\n",
      "bytearray(b'Hello and welcome to the ser')\n",
      "bytearray(b'Hello and welcome to the server.')\n"
     ]
    }
   ],
   "source": [
    "#setting up a client\n",
    "import socket\n",
    "\n",
    "def tcp_client():\n",
    "    s = socket.socket()\n",
    "    s.connect(('127.0.0.1', 12345)) # needs to be the same as s.bind in the server initialization\n",
    "    msg = bytearray() # acts as a list object for bytes\n",
    "    #byte array creates a buffer that we can continuously add data to\n",
    "    buff = s.recv(4) #number of bytes that is going to be received\n",
    "    while buff: #as long as we have a buffer in place\n",
    "        print(msg)\n",
    "        msg.extend(buff)\n",
    "        buff = s.recv(4)\n",
    "    print(msg)\n",
    "tcp_client()"
   ]
  },
  {
   "cell_type": "code",
   "execution_count": 4,
   "metadata": {},
   "outputs": [
    {
     "name": "stdout",
     "output_type": "stream",
     "text": [
      "bytearray(b'Welcome to the server!')\n"
     ]
    }
   ],
   "source": [
    "import socket\n",
    "\n",
    "def tcp_client(address, port):\n",
    "    s = socket.socket()\n",
    "    s.connect((address, port)) # needs to be the same as s.bind in the server initialization\n",
    "    send = bytearray(b'Best Potassium')\n",
    "    s.sendall(send)\n",
    "    msg = bytearray() # acts as a list object for bytes\n",
    "    #byte array creates a buffer that we can continuously add data to\n",
    "    buff = s.recv(4) #number of bytes that is going to be received\n",
    "    while buff: #as long as we have a buffer in place\n",
    "        msg.extend(buff)\n",
    "        buff = s.recv(4)\n",
    "    print(msg)\n",
    "tcp_client('192.168.241.26', 59878)"
   ]
  }
 ],
 "metadata": {
  "kernelspec": {
   "display_name": "Python 3",
   "language": "python",
   "name": "python3"
  },
  "language_info": {
   "codemirror_mode": {
    "name": "ipython",
    "version": 3
   },
   "file_extension": ".py",
   "mimetype": "text/x-python",
   "name": "python",
   "nbconvert_exporter": "python",
   "pygments_lexer": "ipython3",
   "version": "3.8.10"
  }
 },
 "nbformat": 4,
 "nbformat_minor": 2
}
