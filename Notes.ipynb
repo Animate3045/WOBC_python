# https://cted.cybbh.io/tech-college/cbtc/python/07_Python_Functions/04_lambdas.html
