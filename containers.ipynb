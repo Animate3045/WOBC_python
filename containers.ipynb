{
 "cells": [
  {
   "cell_type": "markdown",
   "metadata": {},
   "source": [
    "### Objectives\n",
    "\n",
    "    Use lists to store ordered collections of objects.\n",
    "    Unpack list items.\n",
    "    Use built-in functions on lists.\n",
    "    Add and delete list items.\n",
    "    Sort lists.\n",
    "    Utilize join and split.\n",
    "    Access individual list items and slices of lists.\n",
    "    Use dictionaries to store key/value pairs.\n",
    "    Add and delete key/value pairs.\n",
    "    Retrieve individual values.\n",
    "    Retrieve all keys, values, and key/value pairs.\n",
    "    Reverse and sort dictionaries.\n"
   ]
  },
  {
   "cell_type": "code",
   "execution_count": 3,
   "metadata": {},
   "outputs": [
    {
     "name": "stdout",
     "output_type": "stream",
     "text": [
      "[1, 3]\n"
     ]
    },
    {
     "data": {
      "text/plain": [
       "[5, 4, 3, 2, 1]"
      ]
     },
     "execution_count": 3,
     "metadata": {},
     "output_type": "execute_result"
    }
   ],
   "source": [
    "li = list()\n",
    "li2 = []\n",
    "\n",
    "lst = [1,2,3,4,5]\n",
    "print(lst[0:-1:2]) # -> 1,3 | because the last is non-inclusive\n",
    "\n",
    "lst[-1:0:-1] # ->  [5,4,3,2] | doesn't print index pos 0 \n",
    "lst[-1::-1] # -> [5,4,3,2,1]"
   ]
  },
  {
   "cell_type": "code",
   "execution_count": 7,
   "metadata": {},
   "outputs": [
    {
     "name": "stdout",
     "output_type": "stream",
     "text": [
      "The fifth element in the list is: 5\n",
      "The second to last element in the list is: Jynx\n"
     ]
    }
   ],
   "source": [
    "#The number list:  \n",
    "numList = [1, 2, 3, 4, 5, 6, 7, 8, 9, 10]\n",
    "#The string list:  \n",
    "stringList = ['Moose', 'Jynx', 'Duke']\n",
    "\n",
    "numAndStringList = numList + stringList\n",
    "# [1, 2, 3, 4, 5, 6, 7, 8, 9, 10, 'Moose', 'Jynx', 'Duke']\n",
    "\n",
    "numAndStringList \n",
    "\n",
    "print(f'The fifth element in the list is: {numAndStringList[4]}')\n",
    "print(f'The second to last element in the list is: {numAndStringList[-2]}')"
   ]
  },
  {
   "cell_type": "code",
   "execution_count": null,
   "metadata": {},
   "outputs": [],
   "source": [
    "len(\"how long is this string\")\n",
    "myString = \"how long is this string\"\n",
    "for i in range(len(myString)):\n",
    "    print(f\"Letter {myString[i]} is index: {i}\")"
   ]
  },
  {
   "cell_type": "code",
   "execution_count": 11,
   "metadata": {},
   "outputs": [
    {
     "name": "stdout",
     "output_type": "stream",
     "text": [
      "[2, 3]\n",
      "1 [2, 3]\n",
      "1 [2, 3] 4 5\n"
     ]
    }
   ],
   "source": [
    "numbers = [1,2,3]\n",
    "one, *other = numbers\n",
    "print(other)\n",
    "print(one, other)\n",
    "\n",
    "num2 = [1,2,3,4,5]\n",
    "first, *mid, secondLast, last = num2\n",
    "print(first, mid, secondLast, last)\n"
   ]
  },
  {
   "cell_type": "markdown",
   "metadata": {},
   "source": [
    "### List Methods\n",
    "    append(item) - Adds a new element to the end of the list, increasing the length by one.\n",
    "\n",
    "    extend(iterable) - Adds each element from the iterable passed in as new elements to the end of the list, increasing the length by the number of items in the iterable.\n",
    "\n",
    "    insert(index, item) - Adds the specified item at the specified index position, shifting existing elements to make room for the new item, increasing the length by one.\n",
    "\n",
    "    pop([index]) - Deletes the element at the specified index or the end of the list if no index is provided, decreasing the length by one.\n",
    "\n",
    "    remove(value) - Deletes the first instance of the specified value in the list, decreasing the length by one.\n"
   ]
  },
  {
   "cell_type": "code",
   "execution_count": 16,
   "metadata": {},
   "outputs": [
    {
     "data": {
      "text/plain": [
       "[0, 1, 2, 3, 4, 5, 6, 7, 8, 9]"
      ]
     },
     "execution_count": 16,
     "metadata": {},
     "output_type": "execute_result"
    }
   ],
   "source": [
    "numbers = [1,2,3,4,5]\n",
    "extened_numbers = [7,8,9,10]\n",
    "numbers.append(6)\n",
    "numbers\n",
    "numbers.extend(extened_numbers)\n",
    "numbers\n",
    "numbers.insert(0,0)\n",
    "numbers\n",
    "numbers.pop()\n",
    "numbers"
   ]
  },
  {
   "cell_type": "code",
   "execution_count": 25,
   "metadata": {},
   "outputs": [
    {
     "data": {
      "text/plain": [
       "['adam', 'Adam', 'Bill', 'Edward', 'Jared']"
      ]
     },
     "execution_count": 25,
     "metadata": {},
     "output_type": "execute_result"
    }
   ],
   "source": [
    "numbers = [5,4,2,1,3]\n",
    "numbers.sort()\n",
    "numbers\n",
    "\n",
    "others = [7,2,4,6,8,9,1]\n",
    "#print(sorted(others), others)\n",
    "numbers.sort(reverse=True)\n",
    "numbers\n",
    "\n",
    "names = [\"Jared\", \"Adam\", \"Bill\", \"Edward\", \"adam\"]\n",
    "names.sort(reverse=True)\n",
    "names\n",
    "\n",
    "#sorting with case insensitivity\n",
    "sorted(names, key=str.lower)"
   ]
  },
  {
   "cell_type": "code",
   "execution_count": 26,
   "metadata": {},
   "outputs": [
    {
     "name": "stdout",
     "output_type": "stream",
     "text": [
      "This is a string I want to turn into a list!\n",
      "['This', 'is', 'a', 'string', 'I', 'want', 'to', 'turn', 'into', 'a', 'list!']\n",
      "This is a string I want to turn into a list!\n"
     ]
    }
   ],
   "source": [
    "# Storing a string in a variable called string\n",
    "string = \"This is a string I want to turn into a list!\"\n",
    "print(string)\n",
    "\n",
    "# Turning a string to a list using split\n",
    "string_to_list = string.split()\n",
    "print(string_to_list)\n",
    "\n",
    "# Turning a list to a string using join\n",
    "list_to_string = \" \".join(string_to_list)\n",
    "print(list_to_string)"
   ]
  },
  {
   "cell_type": "code",
   "execution_count": 28,
   "metadata": {},
   "outputs": [
    {
     "data": {
      "text/plain": [
       "['a', 'string']"
      ]
     },
     "execution_count": 28,
     "metadata": {},
     "output_type": "execute_result"
    }
   ],
   "source": [
    "multiList = [[2,4,6,8,10], [1,3,5,7,9, \"a string\"]]\n",
    "multiList[-1][-1].split()"
   ]
  },
  {
   "cell_type": "markdown",
   "metadata": {},
   "source": [
    "### Dictionary\n",
    "key has to be mutable\n",
    "key must be unique"
   ]
  },
  {
   "cell_type": "code",
   "execution_count": 33,
   "metadata": {},
   "outputs": [],
   "source": [
    "webbie = dict()\n",
    "webbie2 = {}\n",
    "names = {\n",
    "    \"n1\": \"Bill\", \"n2\":\"Jill\", \"n3\":\"Gill\"\n",
    "}\n",
    "# if you call the dict() function, you don't need to identify the keys as strings\n",
    "alsoNames = dict(n1 = \"Bill\", n2 = \"Jill\", n3 = \"Gill\")\n",
    "\n",
    "names['n1']\n",
    "names.get('n2')\n",
    "\n",
    "### if your key is undefined, calling the index will break the program while the .get() method will not throw an error\n",
    "\n",
    "names[\"n4\"] = 'Will'\n",
    "names.update({\"n5\":\"Dill\"})\n",
    "names.update([(\"a6\",\"Pill\"), (\"a7\",\"Sill\")])\n",
    "\n"
   ]
  },
  {
   "cell_type": "code",
   "execution_count": 44,
   "metadata": {},
   "outputs": [
    {
     "name": "stdout",
     "output_type": "stream",
     "text": [
      "['user', 'domain1.com']\n",
      "['user', 'domain2.com']\n",
      "['user', 'domain3.com']\n",
      "['user', 'domain4.com']\n"
     ]
    }
   ],
   "source": [
    "li = [\"user@domain1.com\",\"user@domain2.com\",\"user@domain3.com\",\"user@domain4.com\"]\n",
    "for i in li:\n",
    "    newLi = i.split('@')\n",
    "    print(newLi)\n",
    "    \n",
    "\n",
    "#string.split('@')"
   ]
  },
  {
   "cell_type": "code",
   "execution_count": 45,
   "metadata": {},
   "outputs": [
    {
     "data": {
      "text/plain": [
       "[1, 2, 3, 4, 5, 'hi', 'hello', 'hey']"
      ]
     },
     "execution_count": 45,
     "metadata": {},
     "output_type": "execute_result"
    }
   ],
   "source": [
    "nums = [1,2,3,4,5]\n",
    "strings = [\"hi\",\"hello\",\"hey\"]\n",
    "combinedList = nums + strings\n",
    "print(combinedList)"
   ]
  },
  {
   "cell_type": "code",
   "execution_count": 2,
   "metadata": {},
   "outputs": [
    {
     "name": "stdout",
     "output_type": "stream",
     "text": [
      "1\n",
      "1\n",
      "3\n",
      "3\n",
      "3\n"
     ]
    }
   ],
   "source": [
    "counter = 0\n",
    "MyList = [1,2, \"aba\", \"bab\", \"cab\"]\n",
    "for x in MyList:\n",
    "    test = MyList[counter]\n",
    "    printer = str(test)\n",
    "    print(len(printer))\n",
    "    counter += 1\n",
    "    "
   ]
  },
  {
   "cell_type": "code",
   "execution_count": 6,
   "metadata": {},
   "outputs": [
    {
     "data": {
      "text/plain": [
       "[1, 2, 3, 4, 9]"
      ]
     },
     "execution_count": 6,
     "metadata": {},
     "output_type": "execute_result"
    }
   ],
   "source": [
    "di = {5: 1, 4: 3, 2: 2, 6: 9, 3: 4}\n",
    "valueList = sorted(di.values())\n",
    "valueList\n"
   ]
  },
  {
   "cell_type": "code",
   "execution_count": 7,
   "metadata": {},
   "outputs": [
    {
     "name": "stdout",
     "output_type": "stream",
     "text": [
      "[1, 2, 3, 4, 5]\n"
     ]
    }
   ],
   "source": [
    "li = [1,1,1,2,2,2,3,3,3,4,4,4,5,5,5,5,5,5]\n",
    "x = set(li)\n",
    "\n",
    "newLi = []\n",
    "for i in x:\n",
    "    newLi.append(i)\n",
    "print(newLi)"
   ]
  },
  {
   "cell_type": "code",
   "execution_count": 8,
   "metadata": {},
   "outputs": [
    {
     "name": "stdout",
     "output_type": "stream",
     "text": [
      "1\n",
      "2\n",
      "3\n",
      "4\n",
      "5\n",
      "6\n",
      "7\n"
     ]
    }
   ],
   "source": [
    "s = {1,2,3,4,5,6,7}\n",
    "for i in s:\n",
    "    print(i)\n"
   ]
  }
 ],
 "metadata": {
  "kernelspec": {
   "display_name": "Python 3",
   "language": "python",
   "name": "python3"
  },
  "language_info": {
   "codemirror_mode": {
    "name": "ipython",
    "version": 3
   },
   "file_extension": ".py",
   "mimetype": "text/x-python",
   "name": "python",
   "nbconvert_exporter": "python",
   "pygments_lexer": "ipython3",
   "version": "3.8.10"
  }
 },
 "nbformat": 4,
 "nbformat_minor": 2
}
