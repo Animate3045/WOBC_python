{
 "cells": [
  {
   "cell_type": "code",
   "execution_count": null,
   "metadata": {},
   "outputs": [],
   "source": [
    "''' Create a function to take a password as user input. \n",
    "Using a while loop, if the password is less than 14 characters, prompt the user for a password until the user input is 14 or more characters.\n",
    "Once the user types in a password of 14 or more characters, check the password for an uppercase, lowercase, digit, and special character.\n",
    "If the user has all elements, print out that the password is secure, else print out password is not secure.\n",
    "Please see the below image as a sample of what your program could look like.\n",
    "You do not have to specify how many or which character sets are missing.\n",
    "I just wanted to track it during my testing. '''"
   ]
  },
  {
   "cell_type": "code",
   "execution_count": 4,
   "metadata": {},
   "outputs": [],
   "source": [
    "#!/usr/bin/env python3\n",
    "#Create function\n",
    "def passwordTest():\n",
    "    pword = str(input('Please enter your desired password: '))\n",
    "    #the first check is for length. The function is recursive until proper length is achieved.\n",
    "    while len(pword) <= 13:\n",
    "        print(\"Your password is not long enough. Enter at least 14 characters.\")\n",
    "        passwordTest()\n",
    "    #sort the password characters by upper/lower/digit/special\n",
    "    uCase = []\n",
    "    lCase = []\n",
    "    num = []\n",
    "    special = []\n",
    "    #sort and check password characters by type using ASCII values\n",
    "    for i in pword:\n",
    "        #sort printable special characters\n",
    "        if 33 <= ord(i) <= 47 or 58 <= ord(i) <= 64 or 91 <= ord(i) <= 96 or 123 <= ord(i) <= 126:\n",
    "            special.append(i)\n",
    "        #sort digits\n",
    "        elif 48 <= ord(i) <= 57:\n",
    "            num.append(i)\n",
    "        #sort upper case\n",
    "        elif i.isupper():\n",
    "            uCase.append(i)\n",
    "        #sort lower case\n",
    "        elif i.islower():\n",
    "            lCase.append(i)\n",
    "        #exclude invalid characters, restart function if passed invalid character\n",
    "        else:\n",
    "            print(uCase)\n",
    "            print(lcase)\n",
    "            print(num)\n",
    "            print(special)\n",
    "            print('Invalid character entered in password. Try again.')\n",
    "            passwordTest()\n",
    "   #Check to make sure none of the sorted lists are empty - reprompt for new password if it doesn't meet requirements\n",
    "    if not uCase:\n",
    "        print('Password must contain at least one upper case character. Try again.')\n",
    "        passwordTest()\n",
    "    elif not lCase:\n",
    "        print('Password must contain at least one lower case character. Try again.')\n",
    "        passwordTest()\n",
    "    elif not num:\n",
    "        print('Password must contain at least one number. Try again.')\n",
    "        passwordTest()\n",
    "    elif not special:\n",
    "        print('Password must contain at least one special character. Try again.')\n",
    "        passwordTest()\n",
    "    else:\n",
    "        print('Password accepted. Please do not forget your password.')\n",
    "\n",
    "#set the function to autorun\n",
    "pword = []\n",
    "while not pword:\n",
    "    passwordTest()"
   ]
  },
  {
   "cell_type": "code",
   "execution_count": null,
   "metadata": {},
   "outputs": [],
   "source": [
    "test = []\n",
    "if not test"
   ]
  },
  {
   "cell_type": "code",
   "execution_count": 1,
   "metadata": {},
   "outputs": [
    {
     "name": "stdout",
     "output_type": "stream",
     "text": [
      "the ASCII of 0 is 48\n",
      "the ASCII of 1 is 49\n",
      "the ASCII of 2 is 50\n",
      "the ASCII of 3 is 51\n",
      "the ASCII of 4 is 52\n",
      "the ASCII of 5 is 53\n",
      "the ASCII of 6 is 54\n",
      "the ASCII of 7 is 55\n",
      "the ASCII of 8 is 56\n",
      "the ASCII of 9 is 57\n"
     ]
    }
   ],
   "source": [
    "pword = \"0123456789\"\n",
    "for i in pword:\n",
    "    print(f'the ASCII of {i} is {ord(i)}')"
   ]
  }
 ],
 "metadata": {
  "kernelspec": {
   "display_name": "Python 3",
   "language": "python",
   "name": "python3"
  },
  "language_info": {
   "codemirror_mode": {
    "name": "ipython",
    "version": 3
   },
   "file_extension": ".py",
   "mimetype": "text/x-python",
   "name": "python",
   "nbconvert_exporter": "python",
   "pygments_lexer": "ipython3",
   "version": "3.8.10"
  }
 },
 "nbformat": 4,
 "nbformat_minor": 2
}
