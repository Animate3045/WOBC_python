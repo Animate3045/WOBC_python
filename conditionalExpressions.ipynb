{
 "cells": [
  {
   "cell_type": "markdown",
   "metadata": {},
   "source": [
    "### Objectives\n",
    "\n",
    "    - Use the indenting requirements of Python properly.\n",
    "    - Use the Python control flow constructs correctly.\n",
    "    - Understand and use Python’s various relational and logical operators.\n",
    "    - Use if statements to make decisions within the Python code.\n",
    "    - Use for loops to iterate through iterables.\n",
    "    - Use while loops to perform repetitive operations.\n",
    "    - Utilize the range and enumerate functions.\n",
    "    - Control loop termination.\n"
   ]
  },
  {
   "cell_type": "markdown",
   "metadata": {},
   "source": [
    "#### Identify Pythonic Code Blocks\n",
    "- robust set of keywords that control execution flow within an application\n",
    "- Python mandates the use of indenting within a compound statement\n",
    "    -- first line of compound statement called a *header*\n",
    "    -- All other subordinate statements referred to as the *body* or *suite*\n",
    "    -- suite ends with the first line that is indented back to the depth of the header\n",
    "\n",
    "- Each compound statement is called a *control structure*\n",
    "- if tabs are used in the source code, a single tab is not equal to the number of spaces used in a tab\n",
    "- recommend using spaces over tabs\n"
   ]
  },
  {
   "cell_type": "markdown",
   "metadata": {},
   "source": [
    "#### Conditionals\n",
    "- Keywords: if, elif, else\n",
    "\n",
    "format: if [conditional] --> program will evaluate the conditional and proceed into the block *ONLY IF TRUE*\n",
    "\n",
    "- can only be one if -- if is required\n",
    "- can have infinite number of elif\n",
    "- can have an else -- else is the last check, if everything above it is false, the else will execute\n",
    "- pattern and order of if/elif needs to be considered to make sure you're testing \n",
    "- \"You want to whitelist, not blacklist\"\n"
   ]
  },
  {
   "cell_type": "code",
   "execution_count": 1,
   "metadata": {},
   "outputs": [
    {
     "name": "stdout",
     "output_type": "stream",
     "text": [
      "greater\n"
     ]
    }
   ],
   "source": [
    "x = 4\n",
    "if x > 3:\n",
    "    print('greater')\n",
    "elif x < 5:\n",
    "    print ('less')\n",
    "elif x < 7:\n",
    "    print('also less')\n",
    "else:\n",
    "    print('nice')\n"
   ]
  },
  {
   "cell_type": "markdown",
   "metadata": {},
   "source": [
    "### Operators\n",
    "< less than\n",
    "<= less than or equal\n",
    "> greater than\n",
    ">= greater than or equal\n",
    "== equal (equivalent)\n",
    "= variable assignment\n",
    "!= not equal\n",
    "is - object identity - same exact object \n",
    "is not - negated object identity\n"
   ]
  },
  {
   "cell_type": "markdown",
   "metadata": {},
   "source": [
    "### Loops"
   ]
  },
  {
   "cell_type": "code",
   "execution_count": 2,
   "metadata": {},
   "outputs": [
    {
     "data": {
      "text/plain": [
       "[0, 1, 2, 3, 4, 5, 6, 7, 8, 9]"
      ]
     },
     "execution_count": 2,
     "metadata": {},
     "output_type": "execute_result"
    }
   ],
   "source": [
    "'''# For Loop\n",
    "for each in thing:\n",
    "    do this operation\n",
    "\n",
    "# While Loop\n",
    "declare a counter\n",
    "counter = 1\n",
    "while counter <= 10:\n",
    "    do this thing\n",
    "    maybe print something'''\n",
    "\n",
    "list(range(10))\n",
    "# range(start,stop,step)\n"
   ]
  },
  {
   "cell_type": "code",
   "execution_count": 3,
   "metadata": {},
   "outputs": [
    {
     "name": "stdout",
     "output_type": "stream",
     "text": [
      "Count is 5\n",
      "8\n"
     ]
    }
   ],
   "source": [
    "# Declaring count to be 1\n",
    "count = 1\n",
    "\n",
    "# Making a while loop continue on 5 but break on 8\n",
    "while count <= 11:\n",
    "   count += 1\n",
    "   if count == 5:\n",
    "       print(\"Count is 5\")\n",
    "       continue\n",
    "   elif count == 8:\n",
    "       break\n",
    "print(count)"
   ]
  },
  {
   "cell_type": "code",
   "execution_count": 4,
   "metadata": {},
   "outputs": [
    {
     "data": {
      "text/plain": [
       "False"
      ]
     },
     "execution_count": 4,
     "metadata": {},
     "output_type": "execute_result"
    }
   ],
   "source": [
    "not(5==5)"
   ]
  },
  {
   "cell_type": "code",
   "execution_count": 13,
   "metadata": {},
   "outputs": [
    {
     "name": "stdout",
     "output_type": "stream",
     "text": [
      "2500000000\n"
     ]
    }
   ],
   "source": [
    "counter = 0\n",
    "count = 0\n",
    "while counter <= 100000:\n",
    "    if counter%2 == 0:\n",
    "        counter += 1\n",
    "        continue\n",
    "    else: \n",
    "        count = count+counter\n",
    "        counter += 1\n",
    "print(count)"
   ]
  },
  {
   "cell_type": "code",
   "execution_count": 19,
   "metadata": {},
   "outputs": [
    {
     "name": "stdout",
     "output_type": "stream",
     "text": [
      "(0, 1)\n",
      "(1, 2)\n",
      "(2, 3)\n",
      "(3, 4)\n",
      "(4, 5)\n"
     ]
    }
   ],
   "source": [
    "li = [1,2,3,4,5]\n",
    "for x in enumerate(li):\n",
    "    print(x)"
   ]
  },
  {
   "cell_type": "code",
   "execution_count": 15,
   "metadata": {},
   "outputs": [
    {
     "name": "stdout",
     "output_type": "stream",
     "text": [
      "3573575\n"
     ]
    }
   ],
   "source": [
    "sum = 0\n",
    "for x in range(3,5000):\n",
    "    if x%5 == 0 or x%7 == 0:\n",
    "        test = x\n",
    "        if test%35 == 0:\n",
    "            continue\n",
    "        else:\n",
    "            sum = sum + test\n",
    "print(sum)"
   ]
  },
  {
   "cell_type": "code",
   "execution_count": 18,
   "metadata": {},
   "outputs": [
    {
     "name": "stdout",
     "output_type": "stream",
     "text": [
      "1 4 7 10 13 16 19 22 25 28 "
     ]
    }
   ],
   "source": [
    "for x in range(1,30,3):\n",
    "    print(x, end=\" \")"
   ]
  },
  {
   "cell_type": "code",
   "execution_count": 20,
   "metadata": {},
   "outputs": [
    {
     "name": "stdout",
     "output_type": "stream",
     "text": [
      "3893\n"
     ]
    }
   ],
   "source": [
    "count = 3968\n",
    "for x in range(1,16):\n",
    "    if x%3 != 0:\n",
    "        count = count-x\n",
    "    else:\n",
    "        continue\n",
    "print(count)"
   ]
  }
 ],
 "metadata": {
  "kernelspec": {
   "display_name": "Python 3",
   "language": "python",
   "name": "python3"
  },
  "language_info": {
   "codemirror_mode": {
    "name": "ipython",
    "version": 3
   },
   "file_extension": ".py",
   "mimetype": "text/x-python",
   "name": "python",
   "nbconvert_exporter": "python",
   "pygments_lexer": "ipython3",
   "version": "3.8.10"
  }
 },
 "nbformat": 4,
 "nbformat_minor": 2
}
