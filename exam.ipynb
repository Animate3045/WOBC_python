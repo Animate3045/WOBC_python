{
 "cells": [
  {
   "cell_type": "code",
   "execution_count": 2,
   "metadata": {},
   "outputs": [
    {
     "name": "stdout",
     "output_type": "stream",
     "text": [
      "60\n"
     ]
    }
   ],
   "source": [
    "#Question 1\n",
    "def ranges(x,y):\n",
    "    lst = []\n",
    "    for i in range(x,y):\n",
    "        lst.append(i)\n",
    "    end = lst[2] + lst[50]\n",
    "    print(end)\n",
    "ranges(4,55)"
   ]
  },
  {
   "cell_type": "code",
   "execution_count": 3,
   "metadata": {},
   "outputs": [
    {
     "name": "stdout",
     "output_type": "stream",
     "text": [
      "2\n",
      "6\n",
      "10\n",
      "14\n",
      "18\n",
      "22\n",
      "26\n",
      "30\n",
      "34\n",
      "38\n",
      "42\n"
     ]
    }
   ],
   "source": [
    "#Question 2\n",
    "count = 2\n",
    "while count <= 44:\n",
    "    print(count)\n",
    "    count += 4"
   ]
  },
  {
   "cell_type": "code",
   "execution_count": null,
   "metadata": {},
   "outputs": [],
   "source": [
    "#Question 3\n",
    "x = 17\n",
    "if x > 15:\n",
    "    print(\"hello\")\n",
    " elif x < 15:\n",
    "    print(\"no\")\n",
    "    ### The elif is indented incorrectly"
   ]
  },
  {
   "cell_type": "code",
   "execution_count": 5,
   "metadata": {},
   "outputs": [
    {
     "data": {
      "text/plain": [
       "True"
      ]
     },
     "execution_count": 5,
     "metadata": {},
     "output_type": "execute_result"
    }
   ],
   "source": [
    "###Question 4\n",
    "bool(1)"
   ]
  },
  {
   "cell_type": "code",
   "execution_count": 6,
   "metadata": {},
   "outputs": [
    {
     "data": {
      "text/plain": [
       "float"
      ]
     },
     "execution_count": 6,
     "metadata": {},
     "output_type": "execute_result"
    }
   ],
   "source": [
    "### Question 5\n",
    "x = '10'\n",
    "y = float(int(x))\n",
    "x = float(x)\n",
    "z = str(y)\n",
    "type(y)"
   ]
  },
  {
   "cell_type": "code",
   "execution_count": 7,
   "metadata": {},
   "outputs": [
    {
     "data": {
      "text/plain": [
       "5"
      ]
     },
     "execution_count": 7,
     "metadata": {},
     "output_type": "execute_result"
    }
   ],
   "source": [
    "### Question 6\n",
    "x = 5\n",
    "x == 3\n",
    "x"
   ]
  },
  {
   "cell_type": "code",
   "execution_count": 8,
   "metadata": {},
   "outputs": [
    {
     "name": "stdout",
     "output_type": "stream",
     "text": [
      "x\n",
      "y\n"
     ]
    }
   ],
   "source": [
    "###Question 7\n",
    "x = 3\n",
    "y = 4\n",
    "\n",
    "if x == 3:\n",
    "    print(\"x\")\n",
    "if y == 4:\n",
    "    print(\"y\")"
   ]
  },
  {
   "cell_type": "code",
   "execution_count": 9,
   "metadata": {},
   "outputs": [
    {
     "name": "stdout",
     "output_type": "stream",
     "text": [
      "x\n"
     ]
    }
   ],
   "source": [
    "### Question 7 cont\n",
    "x = 3\n",
    "y = 4\n",
    "\n",
    "if x == 3:\n",
    "    print(\"x\")\n",
    "elif y == 4:\n",
    "    print(\"y\")"
   ]
  },
  {
   "cell_type": "code",
   "execution_count": 27,
   "metadata": {},
   "outputs": [
    {
     "name": "stdout",
     "output_type": "stream",
     "text": [
      "12345678910111213\n",
      "1234567891011121314\n"
     ]
    }
   ],
   "source": [
    "### Question 8\n",
    "n = \"123456789101112\"\n",
    "i = 12\n",
    "while True:\n",
    "    i += 1\n",
    "    n = n + str(i)\n",
    "    if n.count('1') == 8:\n",
    "        break\n",
    "    print(n)"
   ]
  },
  {
   "cell_type": "code",
   "execution_count": null,
   "metadata": {},
   "outputs": [],
   "source": [
    "### Question 9\n",
    "'''The popitem() method removes and returns the last key/value pair as what data type?'''\n",
    "'''tuple'''"
   ]
  },
  {
   "cell_type": "code",
   "execution_count": null,
   "metadata": {},
   "outputs": [],
   "source": [
    "### Question 10\n",
    "'''True or False: Lists, Dictionaries, Sets, and Tuples are all mutable data types.'''\n",
    "'''false - Tuples are immutable'''"
   ]
  },
  {
   "cell_type": "code",
   "execution_count": null,
   "metadata": {},
   "outputs": [],
   "source": [
    "### Question 11\n",
    "'''Which function reads one line from the file at a time?'''\n",
    "'''readline'''\n",
    "\n",
    "with open('text.txt', 'r') as inFile:\n",
    "    data = inFile.readline()"
   ]
  },
  {
   "cell_type": "code",
   "execution_count": null,
   "metadata": {},
   "outputs": [],
   "source": [
    "### Question 12\n",
    "'''What keyword automatically closes a file?'''\n",
    "'''with'''"
   ]
  },
  {
   "cell_type": "code",
   "execution_count": null,
   "metadata": {},
   "outputs": [],
   "source": [
    "### Question 13\n",
    "'''What is the default mode when one opens a file?'''\n",
    "'''r'''"
   ]
  },
  {
   "cell_type": "code",
   "execution_count": null,
   "metadata": {},
   "outputs": [],
   "source": [
    "### Question 14\n",
    "'''______ loops often require the use of a counter variable.'''\n",
    "'''while'''"
   ]
  },
  {
   "cell_type": "code",
   "execution_count": 10,
   "metadata": {},
   "outputs": [
    {
     "name": "stdout",
     "output_type": "stream",
     "text": [
      "0 2 4 6 8 10 12 14 16 18 20 "
     ]
    }
   ],
   "source": [
    "### Question 15\n",
    "'''Fill in the blank in the code block to get the following output:\n",
    "\n",
    "0 2 4 6 8 10 12 14 16 18 20'''\n",
    "for i in range(0, 21, 2):\n",
    "    print(i, end= \" \")\n"
   ]
  },
  {
   "cell_type": "code",
   "execution_count": 11,
   "metadata": {},
   "outputs": [
    {
     "ename": "TypeError",
     "evalue": "func() missing 1 required positional argument: 'c'",
     "output_type": "error",
     "traceback": [
      "\u001b[0;31m---------------------------------------------------------------------------\u001b[0m",
      "\u001b[0;31mTypeError\u001b[0m                                 Traceback (most recent call last)",
      "Cell \u001b[0;32mIn[11], line 15\u001b[0m\n\u001b[1;32m     13\u001b[0m     \u001b[38;5;28;01melif\u001b[39;00m c \u001b[38;5;241m==\u001b[39m \u001b[38;5;241m3\u001b[39m:\n\u001b[1;32m     14\u001b[0m         \u001b[38;5;28mprint\u001b[39m(c)\n\u001b[0;32m---> 15\u001b[0m \u001b[43mfunc\u001b[49m\u001b[43m(\u001b[49m\u001b[38;5;241;43m7\u001b[39;49m\u001b[43m,\u001b[49m\u001b[38;5;241;43m8\u001b[39;49m\u001b[43m,\u001b[49m\u001b[38;5;241;43m42\u001b[39;49m\u001b[43m,\u001b[49m\u001b[38;5;241;43m13\u001b[39;49m\u001b[43m,\u001b[49m\u001b[38;5;241;43m3\u001b[39;49m\u001b[43m)\u001b[49m\n",
      "\u001b[0;31mTypeError\u001b[0m: func() missing 1 required positional argument: 'c'"
     ]
    }
   ],
   "source": [
    "### Question 16\n",
    "def func(x,y,z,a,b,c):\n",
    "    if x > 6:\n",
    "        print(x)\n",
    "    elif a > 9:\n",
    "        print(a)\n",
    "    if y < 43:\n",
    "        print(y)\n",
    "    elif b < 22:\n",
    "        print(b)\n",
    "    if z == 13:\n",
    "        print(z)\n",
    "    elif c == 3:\n",
    "        print(c)\n",
    "func(7,8,42,13,3)"
   ]
  },
  {
   "cell_type": "code",
   "execution_count": 21,
   "metadata": {},
   "outputs": [
    {
     "name": "stdout",
     "output_type": "stream",
     "text": [
      "['squirtle', 'totodile', 'mudkip']\n"
     ]
    }
   ],
   "source": [
    "### Question 17\n",
    "'''Given 3 lists of pokemon all in one compressed list, grab the last index of each list and add them to a new list. Print the newly created list. \n",
    "\n",
    "starter = [['bulbasaur', 'charmander', 'squirtle'], ['chikorita', 'cyndaquil', 'totodile'], ['treecko', 'torchic', 'mudkip']]'''\n",
    "\n",
    "#starter = [['bulbasaur', 'charmander', 'squirtle'], ['chikorita', 'cyndaquil', 'totodile'], ['treecko', 'torchic', 'mudkip']]\n",
    "def team(starter):\n",
    "    starterList = []\n",
    "    for list in starter:\n",
    "        grab = list[-1]\n",
    "        #print(grab)\n",
    "        starterList.append(grab)\n",
    "    print(starterList)\n",
    "\n",
    "\n",
    "team(starter = [['bulbasaur', 'charmander', 'squirtle'], ['chikorita', 'cyndaquil', 'totodile'], ['treecko', 'torchic', 'mudkip']])\n"
   ]
  },
  {
   "cell_type": "code",
   "execution_count": 22,
   "metadata": {},
   "outputs": [
    {
     "name": "stdout",
     "output_type": "stream",
     "text": [
      "[71, 111, 111, 100, 32, 76, 117, 99, 107]\n"
     ]
    }
   ],
   "source": [
    "### Question 18\n",
    "'''Add every ordinal value of the string below to a list and print the list'''\n",
    "s = \"Good Luck\"\n",
    "li = []\n",
    "for i in s:\n",
    "    li.append(ord(i))\n",
    "print(li)"
   ]
  },
  {
   "cell_type": "code",
   "execution_count": 25,
   "metadata": {},
   "outputs": [
    {
     "name": "stdout",
     "output_type": "stream",
     "text": [
      "False\n"
     ]
    }
   ],
   "source": [
    "### Question 19\n",
    "'''Write a function that prints True if a number is evenly divisible by 42 and False if not.'''\n",
    "def div(num):\n",
    "    if num % 42 == 0:\n",
    "        print(f'{num % 42 == 0}')\n",
    "    else:\n",
    "        print(f'{num % 42 == 0}')\n",
    "\n",
    "num = 83\n",
    "div(num)"
   ]
  },
  {
   "cell_type": "code",
   "execution_count": 26,
   "metadata": {},
   "outputs": [
    {
     "name": "stdout",
     "output_type": "stream",
     "text": [
      "['Cranston', 'Hart', 'Kwan', 'Oliver', 'Scott', 'Taylor']\n"
     ]
    }
   ],
   "source": [
    "### Question 20\n",
    "'''Add the key 'Tommy', and the value 'Oliver' to the dictionary. Then create a sorted list of only the values. Print the sorted list. '''\n",
    "# Add the key 'Tommy', and the value 'Oliver' to the dictionary\n",
    "MMPR = {'Jason':'Scott', 'Billy':'Cranston', 'Zack':'Taylor', 'Kimberly':'Hart', 'Trini':'Kwan'}\n",
    "MMPR['Tommy'] = 'Oliver'\n",
    "valueList = sorted(MMPR.values())\n",
    "print(valueList)"
   ]
  }
 ],
 "metadata": {
  "kernelspec": {
   "display_name": "Python 3",
   "language": "python",
   "name": "python3"
  },
  "language_info": {
   "codemirror_mode": {
    "name": "ipython",
    "version": 3
   },
   "file_extension": ".py",
   "mimetype": "text/x-python",
   "name": "python",
   "nbconvert_exporter": "python",
   "pygments_lexer": "ipython3",
   "version": "3.8.10"
  }
 },
 "nbformat": 4,
 "nbformat_minor": 2
}
