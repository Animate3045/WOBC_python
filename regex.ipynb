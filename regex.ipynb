{
 "cells": [
  {
   "cell_type": "markdown",
   "metadata": {},
   "source": [
    "- \\d : any number 0-9\n",
    "sites: pynative regex flags | regexone.com | regex101\n",
    ". = any character with a few exclusions - but it is a wildcard for a single digit. can be used with a backslash escape character"
   ]
  },
  {
   "cell_type": "code",
   "execution_count": 2,
   "metadata": {},
   "outputs": [
    {
     "name": "stdout",
     "output_type": "stream",
     "text": [
      "<re.Match object; span=(20, 32), match='123-456-7890'>\n",
      "123-456-7890\n"
     ]
    }
   ],
   "source": [
    "import re\n",
    "\n",
    "#need to store the pattern we are looking for into a variable\n",
    "#using a raw string (r'') is easier with all of the backslashes\n",
    "phone = re.compile(r'\\d\\d\\d-\\d\\d\\d-\\d\\d\\d\\d')\n",
    "\n",
    "matchObject = phone.search(\"The phone number is 123-456-7890\") # the .search() function will only find the first instance\n",
    "print(matchObject) # <re.Match object; span=(20, 32), match='123-456-7890'>\n",
    "print(matchObject.group()) # 123-456-7890\n"
   ]
  },
  {
   "cell_type": "code",
   "execution_count": 3,
   "metadata": {},
   "outputs": [
    {
     "name": "stdout",
     "output_type": "stream",
     "text": [
      "('123', '456', '7890')\n"
     ]
    }
   ],
   "source": [
    "import re\n",
    "phone = re.compile(r'(\\d\\d\\d)-(\\d\\d\\d)-(\\d\\d\\d\\d)')\n",
    "matchObject2 = phone.search(\"The phone number is 123-456-7890 or 098-765-4321\")\n",
    "print(matchObject2.groups()) #Groups() allows you to put parens into your match string --> strored in tuple"
   ]
  },
  {
   "cell_type": "code",
   "execution_count": 4,
   "metadata": {},
   "outputs": [
    {
     "name": "stdout",
     "output_type": "stream",
     "text": [
      "['123-456-7890', '098-765-4321']\n"
     ]
    }
   ],
   "source": [
    "import re\n",
    "phone = re.compile(r'\\d\\d\\d-\\d\\d\\d-\\d\\d\\d\\d')\n",
    "matchObject3 = phone.findall(\"The phone number is 123-456-7890 or 098-765-4321\")\n",
    "print(matchObject3)"
   ]
  },
  {
   "cell_type": "code",
   "execution_count": 6,
   "metadata": {},
   "outputs": [
    {
     "name": "stdout",
     "output_type": "stream",
     "text": [
      "['003', '501', '092']\n"
     ]
    }
   ],
   "source": [
    "import re\n",
    "phone = re.compile(r'\\d{1, 3}') #using the braces quantifies by 3 --> need to have 3 in a row\n",
    "#d{1,3} --> at least 1, up to 3\n",
    "#(r'\\d+') --> any number of digits, splits on non-digit character\n",
    "testCase = '''Good morning Class 003 \n",
    "and 501.\n",
    "It is around 0920\n",
    "'''\n",
    "findAllList = phone.findall(testCase)\n",
    "print(findAllList)\n"
   ]
  },
  {
   "cell_type": "code",
   "execution_count": null,
   "metadata": {},
   "outputs": [],
   "source": [
    "import re\n",
    "phone = re.compile(r'[0:9]') #[A-Z] [a-z] [A-z] r'\\w' --> all alpha numeric\n",
    "# $- anchor - goes to the end and specifies what the selected term needs to end with; ^ is for start of each line\n",
    "matchObject2 = phone.search(\"The phone number is 123-456-7890 or 098-765-4321\")\n",
    "print(matchObject2.groups())"
   ]
  },
  {
   "cell_type": "code",
   "execution_count": 8,
   "metadata": {},
   "outputs": [
    {
     "name": "stdout",
     "output_type": "stream",
     "text": [
      "[('192.255.255.255', '255.'), ('129.255.102.234', '102.')]\n"
     ]
    }
   ],
   "source": [
    "import re\n",
    "text = '''hey my ip address is 192.255.255.255\n",
    "can you help me change it to 129.255.102.234\n",
    "'''\n",
    "addr = re.compile(r'((\\d{1,3}.){3}\\d{1,3})')\n",
    "findAllIP = addr.findall(text)\n",
    "print(findAllIP)"
   ]
  },
  {
   "cell_type": "code",
   "execution_count": null,
   "metadata": {},
   "outputs": [],
   "source": [
    "import re\n",
    "regexes = re.compile(r'\\d')\n",
    "with open(\"file.txt\") as file:\n",
    "    file = file.read()\n",
    "    findall = regexes.findall(file)\n",
    "print(findall)"
   ]
  },
  {
   "cell_type": "code",
   "execution_count": 13,
   "metadata": {},
   "outputs": [
    {
     "name": "stdout",
     "output_type": "stream",
     "text": [
      "bill@email.com\n"
     ]
    }
   ],
   "source": [
    "#Question 6\n",
    "import re \n",
    "strng = \"Bill has an email address bill@email.com\"\n",
    "email = re.compile(r'\\w+@\\w+.\\w+')\n",
    "find = email.search(strng)\n",
    "print(find.group())"
   ]
  },
  {
   "cell_type": "code",
   "execution_count": 15,
   "metadata": {},
   "outputs": [
    {
     "name": "stdout",
     "output_type": "stream",
     "text": [
      "['Joe@yahoo.com', 'Jim@yahoo.com', 'Han@yahoo.com']\n"
     ]
    }
   ],
   "source": [
    "#Question 7\n",
    "import re\n",
    "strng = '''Bill has an email address Bill@email.com\n",
    "Suzanne has an email address Suzanne@other.org\n",
    "Joe has an email address Joe@yahoo.com\n",
    "Jill has an email address Jill@yahoo.com\n",
    "Jim has an email address Jim@yahoo.com\n",
    "Dre has an email address Dre@google.com\n",
    "Han has an email address Han@yahoo.com\n",
    "Jen has an email address Jennifer@yahoo.com\n",
    "'''\n",
    "email = re.compile(r'[A-Z][a-z]{2}@yahoo.com')\n",
    "\n",
    "find = email.findall(strng)\n",
    "print(find)"
   ]
  },
  {
   "cell_type": "code",
   "execution_count": 18,
   "metadata": {},
   "outputs": [
    {
     "name": "stdout",
     "output_type": "stream",
     "text": [
      "['(212)555-1234', '415-555-6789', '(305)555-4321', '818-555-9876', '(312)555-8765']\n"
     ]
    }
   ],
   "source": [
    "#Question 8\n",
    "import re\n",
    "stng = '''(212)555-1234\n",
    "(123)45-2345\n",
    "415-555-6789\n",
    "123-123-123\n",
    "(305)555-4321\n",
    "818-555-9876\n",
    "(312)555-8765\n",
    "'''\n",
    "\n",
    "phone = re.compile(r'\\(?\\d\\d\\d\\)?-?\\d{3}-\\d{4}')\n",
    "find = phone.findall(stng)\n",
    "print(find)"
   ]
  }
 ],
 "metadata": {
  "kernelspec": {
   "display_name": "Python 3",
   "language": "python",
   "name": "python3"
  },
  "language_info": {
   "codemirror_mode": {
    "name": "ipython",
    "version": 3
   },
   "file_extension": ".py",
   "mimetype": "text/x-python",
   "name": "python",
   "nbconvert_exporter": "python",
   "pygments_lexer": "ipython3",
   "version": "3.8.10"
  }
 },
 "nbformat": 4,
 "nbformat_minor": 2
}
